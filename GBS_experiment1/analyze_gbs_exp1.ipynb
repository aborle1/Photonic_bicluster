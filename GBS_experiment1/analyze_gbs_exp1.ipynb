{
 "cells": [
  {
   "cell_type": "code",
   "execution_count": 1,
   "id": "01afae6f-00c3-4f7d-9925-33af30eb4e2f",
   "metadata": {},
   "outputs": [],
   "source": [
    "import numpy as np\n",
    "from statistics import mode"
   ]
  },
  {
   "cell_type": "code",
   "execution_count": 2,
   "id": "a4aacc95-0780-4b21-a9ca-872a62566ffe",
   "metadata": {},
   "outputs": [],
   "source": [
    "#Load the problem\n",
    "fp = np.load('./problems/gbs_exp1_part1.npz')"
   ]
  },
  {
   "cell_type": "code",
   "execution_count": 3,
   "id": "c47dc067-627b-4d4a-849e-ceda17a2956c",
   "metadata": {},
   "outputs": [],
   "source": [
    "dataset = fp['arr_0']\n",
    "shuffle_row_idx = fp['arr_1']\n",
    "shuffle_col_idx = fp['arr_2']\n",
    "bicluster_row_idx = fp['arr_3']\n",
    "bicluster_col_idx = fp['arr_4']"
   ]
  },
  {
   "cell_type": "code",
   "execution_count": 4,
   "id": "0c075df5-bbf4-46e6-9542-351661107063",
   "metadata": {},
   "outputs": [],
   "source": [
    "def list_to_str(l):\n",
    "    \n",
    "    temp_str = str(l)\n",
    "    temp_str = temp_str.replace(\"[\",\"\")\n",
    "    temp_str = temp_str.replace(\"]\",\"\")\n",
    "    temp_str = temp_str.replace(\",\",\"\")\n",
    "    temp_str = temp_str.replace(\" \",\"\")\n",
    "    return temp_str"
   ]
  },
  {
   "cell_type": "code",
   "execution_count": 5,
   "id": "15d9d2e0-479e-47b9-9417-b859f8f619d3",
   "metadata": {},
   "outputs": [
    {
     "name": "stdout",
     "output_type": "stream",
     "text": [
      "The ideal bicluster string would be: 001110111000001100101011\n"
     ]
    }
   ],
   "source": [
    "#Create bicluster_string\n",
    "bicluster_list = [0 for i in range(2*dataset.shape[0])]\n",
    "\n",
    "#rows\n",
    "for item in np.sort(bicluster_row_idx[:,0]):\n",
    "    bicluster_list[item] = 1\n",
    "\n",
    "#columns\n",
    "for item in np.sort(bicluster_col_idx[:,0]):\n",
    "    bicluster_list[item + dataset.shape[0]] = 1\n",
    "\n",
    "bicluster_str = list_to_str(bicluster_list)\n",
    "print(\"The ideal bicluster string would be:\", bicluster_str)"
   ]
  },
  {
   "cell_type": "code",
   "execution_count": 6,
   "id": "41802afa-52a8-4f34-bbe3-4ce08ce795d1",
   "metadata": {},
   "outputs": [],
   "source": [
    "all_photons = [i * 24 for i in [1,2,4,6,10]]\n",
    "all_shots = [1000,10000]"
   ]
  },
  {
   "cell_type": "code",
   "execution_count": 7,
   "id": "7c96c115-71f2-44a6-93ed-06c770270e2e",
   "metadata": {},
   "outputs": [
    {
     "name": "stdout",
     "output_type": "stream",
     "text": [
      "shots: 1000, photons per mode: 1.0\n",
      "Correct sample majority?: False\n",
      "Count of correct sample: 79\n",
      "Correct sample probability: 0.079\n",
      "----\n",
      "shots: 10000, photons per mode: 1.0\n",
      "Correct sample majority?: False\n",
      "Count of correct sample: 735\n",
      "Correct sample probability: 0.0735\n",
      "----\n",
      "shots: 1000, photons per mode: 2.0\n",
      "Correct sample majority?: True\n",
      "Count of correct sample: 97\n",
      "Correct sample probability: 0.097\n",
      "----\n",
      "shots: 10000, photons per mode: 2.0\n",
      "Correct sample majority?: True\n",
      "Count of correct sample: 1038\n",
      "Correct sample probability: 0.1038\n",
      "----\n",
      "shots: 1000, photons per mode: 4.0\n",
      "Correct sample majority?: True\n",
      "Count of correct sample: 107\n",
      "Correct sample probability: 0.107\n",
      "----\n",
      "shots: 10000, photons per mode: 4.0\n",
      "Correct sample majority?: True\n",
      "Count of correct sample: 1099\n",
      "Correct sample probability: 0.1099\n",
      "----\n",
      "shots: 1000, photons per mode: 6.0\n",
      "Correct sample majority?: True\n",
      "Count of correct sample: 115\n",
      "Correct sample probability: 0.115\n",
      "----\n",
      "shots: 10000, photons per mode: 6.0\n",
      "Correct sample majority?: True\n",
      "Count of correct sample: 945\n",
      "Correct sample probability: 0.0945\n",
      "----\n",
      "shots: 1000, photons per mode: 10.0\n",
      "Correct sample majority?: True\n",
      "Count of correct sample: 61\n",
      "Correct sample probability: 0.061\n",
      "----\n",
      "shots: 10000, photons per mode: 10.0\n",
      "Correct sample majority?: True\n",
      "Count of correct sample: 701\n",
      "Correct sample probability: 0.0701\n",
      "----\n"
     ]
    }
   ],
   "source": [
    "for photon in all_photons:\n",
    "    for shots in all_shots:\n",
    "        filepath = './results/res_gbs_exp1_photon'+str(photon)+'_shots'+str(shots)+'.npy'\n",
    "        raw_samples = np.load(filepath)\n",
    "        string_samples = []\n",
    "        for list in raw_samples: \n",
    "            string_samples.append(list_to_str(list))\n",
    "        majority_string = mode(string_samples)\n",
    "        print(f\"shots: {shots}, photons per mode: {photon/(2*dataset.shape[0])}\")\n",
    "        is_majority_correct = (majority_string == bicluster_str)\n",
    "        print(\"Correct sample majority?:\",is_majority_correct)\n",
    "        print(\"Count of correct sample:\",string_samples.count(bicluster_str))\n",
    "        print(\"Correct sample probability:\", string_samples.count(bicluster_str) / shots)\n",
    "        \n",
    "        print(\"----\")"
   ]
  },
  {
   "cell_type": "code",
   "execution_count": 8,
   "id": "c5bc14b6-3fd5-40b5-85c8-8aa5d7dfa313",
   "metadata": {},
   "outputs": [],
   "source": [
    "#Now lets see the results for the binary dataset"
   ]
  },
  {
   "cell_type": "code",
   "execution_count": 9,
   "id": "dc066eff-38ff-4843-a82e-1329bca21fde",
   "metadata": {},
   "outputs": [
    {
     "name": "stdout",
     "output_type": "stream",
     "text": [
      "shots: 1000, photons per mode: 1.0\n",
      "Correct sample majority?: True\n",
      "Count of correct sample: 186\n",
      "Correct sample probability: 0.186\n",
      "----\n",
      "shots: 10000, photons per mode: 1.0\n",
      "Correct sample majority?: True\n",
      "Count of correct sample: 1949\n",
      "Correct sample probability: 0.1949\n",
      "----\n",
      "shots: 1000, photons per mode: 2.0\n",
      "Correct sample majority?: True\n",
      "Count of correct sample: 428\n",
      "Correct sample probability: 0.428\n",
      "----\n",
      "shots: 10000, photons per mode: 2.0\n",
      "Correct sample majority?: True\n",
      "Count of correct sample: 4125\n",
      "Correct sample probability: 0.4125\n",
      "----\n",
      "shots: 1000, photons per mode: 4.0\n",
      "Correct sample majority?: True\n",
      "Count of correct sample: 647\n",
      "Correct sample probability: 0.647\n",
      "----\n",
      "shots: 10000, photons per mode: 4.0\n",
      "Correct sample majority?: True\n",
      "Count of correct sample: 6180\n",
      "Correct sample probability: 0.618\n",
      "----\n",
      "shots: 1000, photons per mode: 6.0\n",
      "Correct sample majority?: True\n",
      "Count of correct sample: 724\n",
      "Correct sample probability: 0.724\n",
      "----\n",
      "shots: 10000, photons per mode: 6.0\n",
      "Correct sample majority?: True\n",
      "Count of correct sample: 7305\n",
      "Correct sample probability: 0.7305\n",
      "----\n",
      "shots: 1000, photons per mode: 10.0\n",
      "Correct sample majority?: True\n",
      "Count of correct sample: 828\n",
      "Correct sample probability: 0.828\n",
      "----\n",
      "shots: 10000, photons per mode: 10.0\n",
      "Correct sample majority?: True\n",
      "Count of correct sample: 8234\n",
      "Correct sample probability: 0.8234\n",
      "----\n"
     ]
    }
   ],
   "source": [
    "for photon in all_photons:\n",
    "    for shots in all_shots:\n",
    "        filepath = './results/resbin_gbs_exp1_photon'+str(photon)+'_shots'+str(shots)+'.npy'\n",
    "        raw_samples = np.load(filepath)\n",
    "        string_samples = []\n",
    "        for list in raw_samples: \n",
    "            string_samples.append(list_to_str(list))\n",
    "        majority_string = mode(string_samples)\n",
    "        print(f\"shots: {shots}, photons per mode: {photon/(2*dataset.shape[0])}\")\n",
    "        is_majority_correct = (majority_string == bicluster_str)\n",
    "        print(\"Correct sample majority?:\",is_majority_correct)\n",
    "        print(\"Count of correct sample:\",string_samples.count(bicluster_str))\n",
    "        print(\"Correct sample probability:\", string_samples.count(bicluster_str) / shots)\n",
    "        \n",
    "        print(\"----\")"
   ]
  },
  {
   "cell_type": "code",
   "execution_count": 11,
   "id": "5a26a698-2f52-4a87-8d1f-8d2ce3c05116",
   "metadata": {},
   "outputs": [
    {
     "data": {
      "text/plain": [
       "array([[0., 0., 1., ..., 0., 1., 1.],\n",
       "       [0., 0., 1., ..., 0., 1., 1.],\n",
       "       [0., 0., 1., ..., 0., 1., 1.],\n",
       "       ...,\n",
       "       [0., 0., 1., ..., 0., 1., 1.],\n",
       "       [0., 0., 1., ..., 0., 1., 1.],\n",
       "       [0., 0., 1., ..., 0., 1., 1.]])"
      ]
     },
     "execution_count": 11,
     "metadata": {},
     "output_type": "execute_result"
    }
   ],
   "source": [
    "raw_samples"
   ]
  },
  {
   "cell_type": "code",
   "execution_count": 12,
   "id": "7d8142f1-fc42-47f8-8259-f0f3353af594",
   "metadata": {},
   "outputs": [],
   "source": [
    "#debugging something, remove afterwards\n",
    "photons = 24\n",
    "shots = 1000\n",
    "filepath = './results/resbin_gbs_exp1_photon'+str(photon)+'_shots'+str(shots)+'.npy'\n",
    "s1 = np.load(filepath)\n",
    "\n",
    "photons = 24\n",
    "shots = 10000\n",
    "filepath = './results/resbin_gbs_exp1_photon'+str(photon)+'_shots'+str(shots)+'.npy'\n",
    "s2 = np.load(filepath)\n"
   ]
  },
  {
   "cell_type": "code",
   "execution_count": 13,
   "id": "b1378abd-0076-40eb-a9e1-11fabb817e98",
   "metadata": {},
   "outputs": [
    {
     "data": {
      "text/plain": [
       "array([[0, 0, 1, ..., 0, 1, 1],\n",
       "       [0, 0, 1, ..., 0, 1, 1],\n",
       "       [0, 0, 1, ..., 0, 1, 1],\n",
       "       ...,\n",
       "       [0, 0, 1, ..., 0, 1, 1],\n",
       "       [0, 0, 1, ..., 0, 1, 1],\n",
       "       [0, 0, 1, ..., 0, 1, 1]], dtype=int64)"
      ]
     },
     "execution_count": 13,
     "metadata": {},
     "output_type": "execute_result"
    }
   ],
   "source": [
    "s1"
   ]
  },
  {
   "cell_type": "code",
   "execution_count": 14,
   "id": "2808acff-e791-4a93-b731-207b45a898ff",
   "metadata": {},
   "outputs": [
    {
     "data": {
      "text/plain": [
       "array([[0., 0., 1., ..., 0., 1., 1.],\n",
       "       [0., 0., 1., ..., 0., 1., 1.],\n",
       "       [0., 0., 1., ..., 0., 1., 1.],\n",
       "       ...,\n",
       "       [0., 0., 1., ..., 0., 1., 1.],\n",
       "       [0., 0., 1., ..., 0., 1., 1.],\n",
       "       [0., 0., 1., ..., 0., 1., 1.]])"
      ]
     },
     "execution_count": 14,
     "metadata": {},
     "output_type": "execute_result"
    }
   ],
   "source": [
    "s2"
   ]
  },
  {
   "cell_type": "code",
   "execution_count": null,
   "id": "dab1a710-afb1-4e5c-8776-13d82a2217a8",
   "metadata": {},
   "outputs": [],
   "source": []
  }
 ],
 "metadata": {
  "kernelspec": {
   "display_name": "research_2023",
   "language": "python",
   "name": "research_2023"
  },
  "language_info": {
   "codemirror_mode": {
    "name": "ipython",
    "version": 3
   },
   "file_extension": ".py",
   "mimetype": "text/x-python",
   "name": "python",
   "nbconvert_exporter": "python",
   "pygments_lexer": "ipython3",
   "version": "3.11.4"
  }
 },
 "nbformat": 4,
 "nbformat_minor": 5
}
