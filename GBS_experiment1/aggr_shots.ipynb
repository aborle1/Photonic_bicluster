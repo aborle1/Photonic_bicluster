{
 "cells": [
  {
   "cell_type": "code",
   "execution_count": 1,
   "id": "d93ebc71-6069-4458-a107-b0399f4067da",
   "metadata": {},
   "outputs": [],
   "source": [
    "import numpy as np"
   ]
  },
  {
   "cell_type": "code",
   "execution_count": 5,
   "id": "fbdf61cd-581c-408c-9198-5e97512c403b",
   "metadata": {},
   "outputs": [],
   "source": [
    "all_photons = [i * 24 for i in [1,2,4,6,10]]\n",
    "all_shots = [1000,10000]"
   ]
  },
  {
   "cell_type": "code",
   "execution_count": 6,
   "id": "dc375e98-a800-4455-8d01-7054502e80bf",
   "metadata": {},
   "outputs": [
    {
     "name": "stdout",
     "output_type": "stream",
     "text": [
      "photons: 24\n",
      "Saved to: ./results/resbin_gbs_exp1_photon24_shots10000.npy\n",
      "----\n",
      "photons: 48\n",
      "Saved to: ./results/resbin_gbs_exp1_photon48_shots10000.npy\n",
      "----\n",
      "photons: 96\n",
      "Saved to: ./results/resbin_gbs_exp1_photon96_shots10000.npy\n",
      "----\n",
      "photons: 144\n",
      "Saved to: ./results/resbin_gbs_exp1_photon144_shots10000.npy\n",
      "----\n",
      "photons: 240\n",
      "Saved to: ./results/resbin_gbs_exp1_photon240_shots10000.npy\n",
      "----\n"
     ]
    }
   ],
   "source": [
    "shots = 1000\n",
    "for photon in all_photons:\n",
    "    all_samples = np.zeros([10000,24])\n",
    "    \n",
    "    for i in range(0,10):\n",
    "        if i==0:\n",
    "            filepath = './results/resbin_gbs_exp1_photon'+str(photon)+'_shots'+str(shots)+'.npy'\n",
    "        else:\n",
    "            filepath = './results/resbin_gbs_exp1_photon'+str(photon)+'_shots'+str(shots)+'_'+str(i)+'.npy'\n",
    "        all_samples[i*1000:1000*(i+1)] = np.load(filepath)\n",
    "\n",
    "    final_filepath = './results/resbin_gbs_exp1_photon'+str(photon)+'_shots10000.npy'\n",
    "    all_samples = all_samples.astype(int)\n",
    "    np.save(final_filepath,all_samples)\n",
    "    print(\"photons:\",photon)\n",
    "    print(\"Saved to:\",final_filepath)\n",
    "    print(\"----\")\n",
    "    "
   ]
  },
  {
   "cell_type": "code",
   "execution_count": 7,
   "id": "5c710ac8-50bb-49e2-b7cb-821114d32284",
   "metadata": {},
   "outputs": [
    {
     "data": {
      "text/plain": [
       "array([[0, 0, 1, ..., 0, 1, 1],\n",
       "       [0, 0, 1, ..., 0, 1, 1],\n",
       "       [0, 0, 1, ..., 0, 1, 1],\n",
       "       ...,\n",
       "       [0, 0, 1, ..., 0, 1, 1],\n",
       "       [0, 0, 1, ..., 0, 1, 1],\n",
       "       [0, 0, 1, ..., 0, 1, 1]])"
      ]
     },
     "execution_count": 7,
     "metadata": {},
     "output_type": "execute_result"
    }
   ],
   "source": [
    "all_samples"
   ]
  },
  {
   "cell_type": "code",
   "execution_count": null,
   "id": "a897e5f1-8b04-48ec-aca1-6a81e5cf995d",
   "metadata": {},
   "outputs": [],
   "source": []
  }
 ],
 "metadata": {
  "kernelspec": {
   "display_name": "Python 3 (ipykernel)",
   "language": "python",
   "name": "python3"
  },
  "language_info": {
   "codemirror_mode": {
    "name": "ipython",
    "version": 3
   },
   "file_extension": ".py",
   "mimetype": "text/x-python",
   "name": "python",
   "nbconvert_exporter": "python",
   "pygments_lexer": "ipython3",
   "version": "3.11.4"
  }
 },
 "nbformat": 4,
 "nbformat_minor": 5
}
