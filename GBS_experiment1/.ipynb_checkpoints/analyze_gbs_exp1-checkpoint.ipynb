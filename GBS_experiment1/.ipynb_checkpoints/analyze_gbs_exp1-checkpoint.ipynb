{
 "cells": [
  {
   "cell_type": "code",
   "execution_count": 30,
   "id": "01afae6f-00c3-4f7d-9925-33af30eb4e2f",
   "metadata": {},
   "outputs": [],
   "source": [
    "import numpy as np\n",
    "from statistics import mode"
   ]
  },
  {
   "cell_type": "code",
   "execution_count": 31,
   "id": "a4aacc95-0780-4b21-a9ca-872a62566ffe",
   "metadata": {},
   "outputs": [],
   "source": [
    "#Load the problem\n",
    "fp = np.load('./problems/gbs_exp1_part1.npz')"
   ]
  },
  {
   "cell_type": "code",
   "execution_count": 32,
   "id": "c47dc067-627b-4d4a-849e-ceda17a2956c",
   "metadata": {},
   "outputs": [],
   "source": [
    "dataset = fp['arr_0']\n",
    "shuffle_row_idx = fp['arr_1']\n",
    "shuffle_col_idx = fp['arr_2']\n",
    "bicluster_row_idx = fp['arr_3']\n",
    "bicluster_col_idx = fp['arr_4']"
   ]
  },
  {
   "cell_type": "code",
   "execution_count": 33,
   "id": "0c075df5-bbf4-46e6-9542-351661107063",
   "metadata": {},
   "outputs": [],
   "source": [
    "def list_to_str(l):\n",
    "    \n",
    "    temp_str = str(l)\n",
    "    temp_str = temp_str.replace(\"[\",\"\")\n",
    "    temp_str = temp_str.replace(\"]\",\"\")\n",
    "    temp_str = temp_str.replace(\",\",\"\")\n",
    "    temp_str = temp_str.replace(\" \",\"\")\n",
    "    return temp_str"
   ]
  },
  {
   "cell_type": "code",
   "execution_count": 34,
   "id": "15d9d2e0-479e-47b9-9417-b859f8f619d3",
   "metadata": {},
   "outputs": [
    {
     "name": "stdout",
     "output_type": "stream",
     "text": [
      "The ideal bicluster string would be: 001110111000001100101011\n"
     ]
    }
   ],
   "source": [
    "#Create bicluster_string\n",
    "bicluster_list = [0 for i in range(2*dataset.shape[0])]\n",
    "\n",
    "#rows\n",
    "for item in np.sort(bicluster_row_idx[:,0]):\n",
    "    bicluster_list[item] = 1\n",
    "\n",
    "#columns\n",
    "for item in np.sort(bicluster_col_idx[:,0]):\n",
    "    bicluster_list[item + dataset.shape[0]] = 1\n",
    "\n",
    "bicluster_str = list_to_str(bicluster_list)\n",
    "print(\"The ideal bicluster string would be:\", bicluster_str)"
   ]
  },
  {
   "cell_type": "code",
   "execution_count": 35,
   "id": "41802afa-52a8-4f34-bbe3-4ce08ce795d1",
   "metadata": {},
   "outputs": [],
   "source": [
    "all_photons = [i * 24 for i in [1,2,4,6,10]]\n",
    "all_shots = [1000,10000]"
   ]
  },
  {
   "cell_type": "code",
   "execution_count": 37,
   "id": "7c96c115-71f2-44a6-93ed-06c770270e2e",
   "metadata": {},
   "outputs": [
    {
     "name": "stdout",
     "output_type": "stream",
     "text": [
      "000000000000000000000000\n",
      "----\n",
      "000000000000000000000000\n",
      "----\n",
      "001110111000001100101011\n",
      "----\n",
      "001110111000001100101011\n",
      "----\n",
      "001110111000001100101011\n",
      "----\n",
      "001110111000001100101011\n",
      "----\n",
      "001110111000001100101011\n",
      "----\n",
      "001110111000001100101011\n",
      "----\n",
      "001110111000001100101011\n",
      "----\n",
      "001110111000001100101011\n",
      "----\n"
     ]
    }
   ],
   "source": [
    "for photon in all_photons:\n",
    "    for shots in all_shots:\n",
    "        filepath = './results/res_gbs_exp1_photon'+str(photon)+'_shots'+str(shots)+'.npy'\n",
    "        raw_samples = np.load(filepath)\n",
    "        string_samples = []\n",
    "        for list in raw_samples: \n",
    "            string_samples.append(list_to_str(list))\n",
    "        majority_string = mode(string_samples)\n",
    "        print(majority_string)\n",
    "        \n",
    "        print(\"----\")"
   ]
  },
  {
   "cell_type": "code",
   "execution_count": null,
   "id": "c5bc14b6-3fd5-40b5-85c8-8aa5d7dfa313",
   "metadata": {},
   "outputs": [],
   "source": []
  }
 ],
 "metadata": {
  "kernelspec": {
   "display_name": "Python 3 (ipykernel)",
   "language": "python",
   "name": "python3"
  },
  "language_info": {
   "codemirror_mode": {
    "name": "ipython",
    "version": 3
   },
   "file_extension": ".py",
   "mimetype": "text/x-python",
   "name": "python",
   "nbconvert_exporter": "python",
   "pygments_lexer": "ipython3",
   "version": "3.11.4"
  }
 },
 "nbformat": 4,
 "nbformat_minor": 5
}
