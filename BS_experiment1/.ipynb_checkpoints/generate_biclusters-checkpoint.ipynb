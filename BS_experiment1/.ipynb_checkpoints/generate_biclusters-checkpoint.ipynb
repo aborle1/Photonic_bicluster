{
 "cells": [
  {
   "cell_type": "code",
   "execution_count": 1,
   "id": "cfd37c7f-50c5-426c-9856-f245101e28d9",
   "metadata": {},
   "outputs": [],
   "source": [
    "import numpy as np"
   ]
  },
  {
   "cell_type": "code",
   "execution_count": null,
   "id": "82a4aff1-ac7b-4ebc-ad5a-fe1e82f280c0",
   "metadata": {},
   "outputs": [],
   "source": [
    "#Boson sampling\n",
    "#Experiment 1"
   ]
  },
  {
   "cell_type": "code",
   "execution_count": 5,
   "id": "49cab855-dba6-4345-bc3d-1cd4f6f60762",
   "metadata": {},
   "outputs": [],
   "source": [
    "\n",
    "#Seeding for reproducibility\n",
    "np.random.seed(4)\n",
    "\n",
    "#D is the matrix that will host the \n",
    "D = np.zeros([12,12])\n",
    "\n",
    "#Our bicluster (values are one of these 0.9,0.8,0.7)\n",
    "bicluster = np.random.choice([0.9,0.8,0.7], [4,4], replace=True) # a 4 x 4 bicluster"
   ]
  },
  {
   "cell_type": "code",
   "execution_count": 4,
   "id": "56ef87e9-3219-4e0e-8370-9041a97c1036",
   "metadata": {},
   "outputs": [
    {
     "data": {
      "text/plain": [
       "array([[0.7, 0.7, 0.8, 0.8],\n",
       "       [0.9, 0.9, 0.7, 0.8],\n",
       "       [0.7, 0.9, 0.8, 0.7],\n",
       "       [0.8, 0.9, 0.9, 0.7]])"
      ]
     },
     "execution_count": 4,
     "metadata": {},
     "output_type": "execute_result"
    }
   ],
   "source": []
  },
  {
   "cell_type": "code",
   "execution_count": null,
   "id": "a39769ee-5e1c-476b-9d45-a5f84892136e",
   "metadata": {},
   "outputs": [],
   "source": []
  }
 ],
 "metadata": {
  "kernelspec": {
   "display_name": "Python 3 (ipykernel)",
   "language": "python",
   "name": "python3"
  },
  "language_info": {
   "codemirror_mode": {
    "name": "ipython",
    "version": 3
   },
   "file_extension": ".py",
   "mimetype": "text/x-python",
   "name": "python",
   "nbconvert_exporter": "python",
   "pygments_lexer": "ipython3",
   "version": "3.11.4"
  }
 },
 "nbformat": 4,
 "nbformat_minor": 5
}
