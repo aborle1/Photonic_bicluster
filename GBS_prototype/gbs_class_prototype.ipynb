{
 "cells": [
  {
   "cell_type": "code",
   "execution_count": 1,
   "id": "0631d7bf-7ac3-46bf-a308-b6e16fc3a5e5",
   "metadata": {},
   "outputs": [],
   "source": [
    "#This notebook is for tinkering around and refining the class GBS_cluster\n",
    "#Refined versions make there way over to the gbs_bicluster_class.py file\n",
    "#Or may make their way to this file again!\n",
    "import numpy as np"
   ]
  },
  {
   "cell_type": "code",
   "execution_count": 3,
   "id": "6fef56d0-2e8d-45ee-ad8a-0af03727ece5",
   "metadata": {},
   "outputs": [],
   "source": [
    "#Load a file for basic testing, this file was originally created for BS_experiment2\n",
    "#Load dataset\n",
    "fp = np.load('./problems/bs_exp2_part1.npz')"
   ]
  },
  {
   "cell_type": "code",
   "execution_count": 4,
   "id": "6a644529-56d6-4aed-be20-6effcfa38cb1",
   "metadata": {},
   "outputs": [],
   "source": [
    "dataset = fp['arr_0']\n",
    "shuffle_row_idx = fp['arr_1']\n",
    "shuffle_col_idx = fp['arr_2']\n",
    "bicluster_row_idx = fp['arr_3']\n",
    "bicluster_col_idx = fp['arr_4']"
   ]
  },
  {
   "cell_type": "code",
   "execution_count": 6,
   "id": "f61d6f65-ef95-4b53-87cf-76f7d7494b84",
   "metadata": {},
   "outputs": [],
   "source": [
    "class GBS_cluster:\n",
    "    def __init__(self,dataset:np.ndarray,token_file=None):\n",
    "        self.dataset = dataset\n",
    "        #Get rows and columns of the original dataset\n",
    "        self.original_rows = dataset.shape[0]\n",
    "        self.original_cols = dataset.shape[1]\n",
    "\n",
    "        #Get adjacency matrix out of this\n",
    "        #Create an all-zero matrix\n",
    "        self.dataset_adj_matrix = np.zeros((self.dataset.shape[0]+self.dataset.shape[1],self.dataset.shape[0]+self.dataset.shape[1]))\n",
    "\n",
    "        #convert data into adjacency matrix\n",
    "        for i in range(self.dataset.shape[0]):\n",
    "            for j in range(self.dataset.shape[1]):\n",
    "                self.dataset_adj_matrix[i,j+self.dataset.shape[0]] = self.dataset[i,j]\n",
    "\n",
    "        #Create symmetry\n",
    "        self.dataset_adj_matrix = self.dataset_adj_matrix + self.dataset_adj_matrix.T\n",
    "         \n",
    "        "
   ]
  },
  {
   "cell_type": "code",
   "execution_count": 7,
   "id": "fecd5df1-4b8b-4558-b410-99a2610603f2",
   "metadata": {},
   "outputs": [],
   "source": [
    "gbs_cluster = GBS_cluster(dataset)"
   ]
  },
  {
   "cell_type": "code",
   "execution_count": 9,
   "id": "4cc739b1-b52d-4ae7-af24-c2f89baa57f9",
   "metadata": {},
   "outputs": [
    {
     "data": {
      "text/plain": [
       "(24, 24)"
      ]
     },
     "execution_count": 9,
     "metadata": {},
     "output_type": "execute_result"
    }
   ],
   "source": [
    "gbs_cluster.dataset_adj_matrix.shape"
   ]
  },
  {
   "cell_type": "code",
   "execution_count": null,
   "id": "211d0656-d22b-430f-96cd-34b6d49d0758",
   "metadata": {},
   "outputs": [],
   "source": []
  }
 ],
 "metadata": {
  "kernelspec": {
   "display_name": "research_2023",
   "language": "python",
   "name": "research_2023"
  },
  "language_info": {
   "codemirror_mode": {
    "name": "ipython",
    "version": 3
   },
   "file_extension": ".py",
   "mimetype": "text/x-python",
   "name": "python",
   "nbconvert_exporter": "python",
   "pygments_lexer": "ipython3",
   "version": "3.11.4"
  }
 },
 "nbformat": 4,
 "nbformat_minor": 5
}
