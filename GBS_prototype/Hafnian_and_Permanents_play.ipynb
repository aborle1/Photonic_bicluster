{
 "cells": [
  {
   "cell_type": "code",
   "execution_count": 4,
   "id": "181b6c4d-4ef9-4ab4-a4e2-52a74524dc89",
   "metadata": {},
   "outputs": [],
   "source": [
    "#This notebook is about playing around with hafnians and permanents of matrices\n",
    "import numpy as np"
   ]
  },
  {
   "cell_type": "code",
   "execution_count": 12,
   "id": "713ddf21-e3f5-465f-b3e7-924c4f9bce30",
   "metadata": {},
   "outputs": [
    {
     "name": "stdout",
     "output_type": "stream",
     "text": [
      "((0, 1), (2, 3), (4, 5))\n",
      "((0, 1), (2, 4), (3, 5))\n",
      "((0, 1), (2, 5), (3, 4))\n",
      "((0, 2), (1, 3), (4, 5))\n",
      "((0, 2), (1, 4), (3, 5))\n",
      "((0, 2), (1, 5), (3, 4))\n",
      "((0, 3), (1, 2), (4, 5))\n",
      "((0, 3), (1, 4), (2, 5))\n",
      "((0, 3), (1, 5), (2, 4))\n",
      "((0, 4), (1, 2), (3, 5))\n",
      "((0, 4), (1, 3), (2, 5))\n",
      "((0, 4), (1, 5), (2, 3))\n",
      "((0, 5), (1, 2), (3, 4))\n",
      "((0, 5), (1, 3), (2, 4))\n",
      "((0, 5), (1, 4), (2, 3))\n",
      "The total number of matchings:  15\n"
     ]
    }
   ],
   "source": [
    "from itertools import permutations, combinations\n",
    "\n",
    "#number of perfect matchings  is important for us to calculate the hafnian\n",
    "#think of them as index positions for the values in the matrix, you multiply the values from the coordinates of each matching and then sum up the results\n",
    "def perfect_matching_permutations(size):\n",
    "    # Generate all possible edges\n",
    "    edges = [(i, j) for i in range(size) for j in range(i + 1, size)]\n",
    "\n",
    "    # Generate permutations of the edges\n",
    "    edge_permutations = combinations(edges, size // 2)\n",
    "    # Filter permutations to keep only those forming perfect matchings\n",
    "    perfect_matchings = []\n",
    "    for perm in edge_permutations:\n",
    "        is_perfect_matching = True\n",
    "        matched_vertices = set()\n",
    "        for edge in perm:\n",
    "            u, v = edge\n",
    "            if u in matched_vertices or v in matched_vertices:\n",
    "                is_perfect_matching = False\n",
    "                break\n",
    "            matched_vertices.add(u)\n",
    "            matched_vertices.add(v)\n",
    "        if is_perfect_matching:\n",
    "            perfect_matchings.append(perm)\n",
    "\n",
    "    return perfect_matchings\n",
    "\n",
    "# Example usage:\n",
    "size = 6  # Change this to your desired size\n",
    "matchings = perfect_matching_permutations(size)\n",
    "for matching in matchings:\n",
    "    print(matching)\n",
    "print(\"The total number of matchings: \",len(matchings))"
   ]
  },
  {
   "cell_type": "code",
   "execution_count": 9,
   "id": "8662c407-b345-47cb-864a-5255737952c0",
   "metadata": {},
   "outputs": [],
   "source": [
    "from thewalrus import perm,hafnian #permanents and hafnians\n",
    "import numpy as np"
   ]
  },
  {
   "cell_type": "code",
   "execution_count": 17,
   "id": "f562576a-ea0f-41ea-9b89-3da087ff028c",
   "metadata": {},
   "outputs": [
    {
     "data": {
      "text/plain": [
       "15.0"
      ]
     },
     "execution_count": 17,
     "metadata": {},
     "output_type": "execute_result"
    }
   ],
   "source": [
    "#A is a 6 x 6 symmetric matrix (all ones)\n",
    "#let us check out its hafnian (it will be equal to the number of perfect matchings for the size 6\n",
    "A = np.ones([6,6])\n",
    "hafnian(A).real"
   ]
  },
  {
   "cell_type": "code",
   "execution_count": 21,
   "id": "cba9d7d7-3be8-4b82-bd39-fcc197629dc7",
   "metadata": {},
   "outputs": [],
   "source": [
    "#A simple 3 x 3 matrix\n",
    "A = np.array([[1,2,3],[4,5,6],[7,8,9]])"
   ]
  },
  {
   "cell_type": "code",
   "execution_count": 22,
   "id": "214f6eb8-ae43-4465-98b0-80ebfddebed8",
   "metadata": {},
   "outputs": [
    {
     "data": {
      "text/plain": [
       "450"
      ]
     },
     "execution_count": 22,
     "metadata": {},
     "output_type": "execute_result"
    }
   ],
   "source": [
    "#Perm = 1*5*9 + 1*6*8 + 2*4*9 + 2*6*7 + 3*4*8 + 3*5*7 = 40\n",
    "perm(A)"
   ]
  },
  {
   "cell_type": "code",
   "execution_count": 23,
   "id": "4cf80585-9544-43c4-9bbb-8333096e0310",
   "metadata": {},
   "outputs": [
    {
     "data": {
      "text/plain": [
       "0.0"
      ]
     },
     "execution_count": 23,
     "metadata": {},
     "output_type": "execute_result"
    }
   ],
   "source": [
    "#making a symmetric matrix (not the same as previous symmetric matrix)\n",
    "A = A + A.T\n",
    "hafnian(A) #hafnian of a matrix with odd length is 0"
   ]
  },
  {
   "cell_type": "code",
   "execution_count": 25,
   "id": "afc463b9-c04f-49c8-a832-1d6e73e478ca",
   "metadata": {},
   "outputs": [],
   "source": [
    "#Let us analyze for a even dimensioned matrix\n",
    "#A symmetric 4x4 matrix\n",
    "A = np.array([[1,2,3,4],[5,6,7,8],[9,10,11,12],[13,14,15,16]])\n",
    "A = A + A.T"
   ]
  },
  {
   "cell_type": "code",
   "execution_count": 26,
   "id": "4a372990-0529-4005-a908-4da459a4b78d",
   "metadata": {},
   "outputs": [
    {
     "name": "stdout",
     "output_type": "stream",
     "text": [
      "((0, 1), (2, 3))\n",
      "((0, 2), (1, 3))\n",
      "((0, 3), (1, 2))\n"
     ]
    }
   ],
   "source": [
    "# Example usage:\n",
    "size = 4  # Change this to your desired size\n",
    "matchings = perfect_matching_permutations(size)\n",
    "for matching in matchings:\n",
    "    print(matching)"
   ]
  },
  {
   "cell_type": "code",
   "execution_count": 27,
   "id": "c3d4d5ef-133c-48d5-8628-f703b1169905",
   "metadata": {},
   "outputs": [
    {
     "data": {
      "text/plain": [
       "array([[ 2,  7, 12, 17],\n",
       "       [ 7, 12, 17, 22],\n",
       "       [12, 17, 22, 27],\n",
       "       [17, 22, 27, 32]])"
      ]
     },
     "execution_count": 27,
     "metadata": {},
     "output_type": "execute_result"
    }
   ],
   "source": [
    "A #display the matrix"
   ]
  },
  {
   "cell_type": "code",
   "execution_count": 29,
   "id": "1be263ec-d8da-4b91-bbd5-7d97b332e2ca",
   "metadata": {},
   "outputs": [
    {
     "data": {
      "text/plain": [
       "742"
      ]
     },
     "execution_count": 29,
     "metadata": {},
     "output_type": "execute_result"
    }
   ],
   "source": [
    "#Hafnian = A[0,1]*A[2,3] + A[0,2]*A[1,3] + A[0,3]*A[1,2] = 742\n",
    "hafnian(A)"
   ]
  },
  {
   "cell_type": "code",
   "execution_count": 6,
   "id": "3437bf85-2ed3-4dc4-9710-d0bec03f5b29",
   "metadata": {},
   "outputs": [],
   "source": [
    "#MISC :\n",
    "#If you wanted to transform the matrix to one where eigenvalues are between +1 and -1\n",
    "eigvals,eigvecs = np.linalg.eig(A) #find eigenvalues and eigenvectors\n",
    "maxeig = np.abs(eigvals).max() #find the maxeig as the one with the largest absolute value\n",
    "new_A = (1/maxeig)*A #binds eigenvalues between +1 and -1"
   ]
  },
  {
   "cell_type": "code",
   "execution_count": 9,
   "id": "d09d622d-8e59-49c9-920b-590741b23bb4",
   "metadata": {},
   "outputs": [
    {
     "data": {
      "text/plain": [
       "742"
      ]
     },
     "execution_count": 9,
     "metadata": {},
     "output_type": "execute_result"
    }
   ],
   "source": [
    "hafnian(A)"
   ]
  },
  {
   "cell_type": "code",
   "execution_count": 10,
   "id": "b43543af-0732-42c3-b528-b502ca279a37",
   "metadata": {},
   "outputs": [
    {
     "data": {
      "text/plain": [
       "1170004.0"
      ]
     },
     "execution_count": 10,
     "metadata": {},
     "output_type": "execute_result"
    }
   ],
   "source": [
    "perm(A)"
   ]
  },
  {
   "cell_type": "code",
   "execution_count": null,
   "id": "073462cc-3e52-4ba0-b34f-c7863e616ca9",
   "metadata": {},
   "outputs": [],
   "source": []
  }
 ],
 "metadata": {
  "kernelspec": {
   "display_name": "Python 3 (ipykernel)",
   "language": "python",
   "name": "python3"
  },
  "language_info": {
   "codemirror_mode": {
    "name": "ipython",
    "version": 3
   },
   "file_extension": ".py",
   "mimetype": "text/x-python",
   "name": "python",
   "nbconvert_exporter": "python",
   "pygments_lexer": "ipython3",
   "version": "3.11.4"
  }
 },
 "nbformat": 4,
 "nbformat_minor": 5
}
