{
 "cells": [
  {
   "cell_type": "code",
   "execution_count": 1,
   "id": "73a933f2-f948-4903-920b-4f98c9bbfe6d",
   "metadata": {},
   "outputs": [],
   "source": [
    "#This code deals with finding the largest bicluster from 0-1 data\n",
    "#backend used is remote\n",
    "#NOTE : (with reference to the second half). The backend simulator (simulon_gaussian) on Xanadu-cloud couldn't compile the linear interferometor\n",
    "# for the example question (a 30 x 30 adjacency matrix)\n",
    "import numpy as np\n",
    "import xcc\n",
    "import strawberryfields as sf\n",
    "from strawberryfields.apps import sample\n",
    "from strawberryfields import decompositions\n",
    "import networkx as nx"
   ]
  },
  {
   "cell_type": "code",
   "execution_count": 2,
   "id": "36fa20b5-161e-4f1a-b515-e4e2b6ec71db",
   "metadata": {},
   "outputs": [],
   "source": [
    "#setting xcc with api_key\n",
    "xanadu_token = open(\"xanadu_token.txt\", \"r\").read() #xanadu_token.txt does not really exist on github due to obvious reasons :) (you will have to get your own tokens by signing up to the Xanadu cloud)\n",
    "settings = xcc.Settings(REFRESH_TOKEN=xanadu_token)\n",
    "settings.save()"
   ]
  },
  {
   "cell_type": "code",
   "execution_count": 3,
   "id": "bab20d1f-a3e3-465a-8501-605526eb8b49",
   "metadata": {},
   "outputs": [
    {
     "data": {
      "text/plain": [
       "True"
      ]
     },
     "execution_count": 3,
     "metadata": {},
     "output_type": "execute_result"
    }
   ],
   "source": [
    "connection = xcc.Connection.load()\n",
    "connection.ping().ok"
   ]
  },
  {
   "cell_type": "markdown",
   "id": "d1a424db-9088-43e3-a842-997baea03bef",
   "metadata": {},
   "source": [
    "# First, a demo code"
   ]
  },
  {
   "cell_type": "code",
   "execution_count": 40,
   "id": "53dc2cc7-143c-4fde-9bce-482691d8b46e",
   "metadata": {},
   "outputs": [],
   "source": [
    "# define the linear interferometer\n",
    "#adapted code from: https://strawberryfields.ai/photonics/demos/run_gaussian_boson_sampling.html (original code uses local engine)\n",
    "U = np.array([\n",
    " [ 0.219546940711-0.256534554457j, 0.611076853957+0.524178937791j,\n",
    "    -0.102700187435+0.474478834685j,-0.027250232925+0.03729094623j],\n",
    " [ 0.451281863394+0.602582912475j, 0.456952590016+0.01230749109j,\n",
    "    0.131625867435-0.450417744715j, 0.035283194078-0.053244267184j],\n",
    " [ 0.038710094355+0.492715562066j,-0.019212744068-0.321842852355j,\n",
    "    -0.240776471286+0.524432833034j,-0.458388143039+0.329633367819j],\n",
    " [-0.156619083736+0.224568570065j, 0.109992223305-0.163750223027j,\n",
    "    -0.421179844245+0.183644837982j, 0.818769184612+0.068015658737j]\n",
    "])\n",
    "\n",
    "# create the 4 mode Strawberry Fields program\n",
    "gbs = sf.Program(4)\n",
    "\n",
    "with gbs.context as q:\n",
    "    # prepare the input squeezed states\n",
    "    S = sf.ops.Sgate(1)\n",
    "    S | q[0]\n",
    "    S | q[1]\n",
    "    S | q[2]\n",
    "    S | q[3]\n",
    "\n",
    "    # linear interferometer\n",
    "    sf.ops.Interferometer(U) | q"
   ]
  },
  {
   "cell_type": "code",
   "execution_count": 41,
   "id": "c40d5abe-f0d2-494b-93c2-6ac64b633151",
   "metadata": {},
   "outputs": [],
   "source": [
    "eng = sf.Engine(\"gaussian\")"
   ]
  },
  {
   "cell_type": "code",
   "execution_count": 42,
   "id": "042ad5a0-b6f3-4ab6-91e3-68a17339d7d0",
   "metadata": {},
   "outputs": [],
   "source": [
    "shots = 10000\n",
    "results = eng.run(gbs,shots=shots)"
   ]
  },
  {
   "cell_type": "code",
   "execution_count": 43,
   "id": "e1e18eaa-28d4-4472-aba3-233f5961b919",
   "metadata": {},
   "outputs": [
    {
     "data": {
      "text/plain": [
       "<Result: shots=0, num_modes=0, contains state=True>"
      ]
     },
     "execution_count": 43,
     "metadata": {},
     "output_type": "execute_result"
    }
   ],
   "source": [
    "results"
   ]
  },
  {
   "cell_type": "code",
   "execution_count": 44,
   "id": "427aec4c-4359-4ebc-9568-024732885ad7",
   "metadata": {},
   "outputs": [
    {
     "name": "stdout",
     "output_type": "stream",
     "text": [
      "|0000>: 0.17637844761413482\n",
      "|1100>: 0.06855956371224504\n",
      "|0101>: 0.0020560972589722904\n",
      "|1111>: 0.00834294639988194\n",
      "|2000>: 0.0103129452534403\n"
     ]
    }
   ],
   "source": [
    "# Fock states to measure at output\n",
    "measure_states = [[0,0,0,0], [1,1,0,0], [0,1,0,1], [1,1,1,1], [2,0,0,0]]\n",
    "\n",
    "# extract the probabilities of calculating several\n",
    "# different Fock states at the output, and print them to the terminal\n",
    "for i in measure_states:\n",
    "    prob = results.state.fock_prob(i)\n",
    "    print(\"|{}>: {}\".format(\"\".join(str(j) for j in i), prob))"
   ]
  },
  {
   "cell_type": "markdown",
   "id": "3ebf97c0-f4b5-478e-a8fd-27c777cabc68",
   "metadata": {},
   "source": [
    "# Now our code"
   ]
  },
  {
   "cell_type": "code",
   "execution_count": 34,
   "id": "9652315c-1a9a-45b5-83de-174bb8c2afe4",
   "metadata": {},
   "outputs": [],
   "source": [
    "eng = sf.RemoteEngine(\"simulon_gaussian\",connection)"
   ]
  },
  {
   "cell_type": "code",
   "execution_count": 35,
   "id": "6bd4d994-b3cb-4144-ae31-1e7bb8584083",
   "metadata": {},
   "outputs": [],
   "source": [
    "#Let us generate a problem, very simple one\n",
    "#Total data size of 25 x 6\n",
    "dataset = np.zeros((25,5))\n",
    "#Embed a bicluster (contiguous)\n",
    "dataset_ones = np.ones((5,5))\n",
    "#Nest the bicluster in the data\n",
    "dataset[5:10,:] = dataset_ones"
   ]
  },
  {
   "cell_type": "code",
   "execution_count": 36,
   "id": "22f8b263-ef70-43b6-8203-d1286c4f2e1c",
   "metadata": {},
   "outputs": [],
   "source": [
    "#create an adjacency matrix out of this\n",
    "#generate zeros\n",
    "dataset_adj_matrix = np.zeros((dataset.shape[0]+dataset.shape[1],dataset.shape[0]+dataset.shape[1]))\n",
    "#convert data into adjacency matrix\n",
    "for i in range(dataset.shape[0]):\n",
    "    for j in range(dataset.shape[1]):\n",
    "        dataset_adj_matrix[i,j+dataset.shape[0]] = dataset[i,j]\n",
    "#Create symmetry\n",
    "dataset_adj_matrix = dataset_adj_matrix + dataset_adj_matrix.T"
   ]
  },
  {
   "cell_type": "code",
   "execution_count": 37,
   "id": "e520defa-47a0-4d33-8b27-807f10f394d6",
   "metadata": {},
   "outputs": [],
   "source": [
    "from strawberryfields.apps import sample\n",
    "modes = dataset_adj_matrix.shape[0] #it is okay for the modes to be odd, but the submatrix would be even\n",
    "n_mean = dataset_adj_matrix.shape[0]/2 #trick from clustering \n",
    "shots = 1000"
   ]
  },
  {
   "cell_type": "code",
   "execution_count": 38,
   "id": "d03d4083-4ba3-4fa5-b8b0-63f683480172",
   "metadata": {},
   "outputs": [],
   "source": [
    "mean_photon_per_mode = n_mean / float(modes)\n",
    "p = sf.Program(modes)"
   ]
  },
  {
   "cell_type": "code",
   "execution_count": 39,
   "id": "38fb6d0b-8861-4460-8473-538437a630b1",
   "metadata": {},
   "outputs": [],
   "source": [
    "#This is inspired by code on : https://strawberryfields.readthedocs.io/en/stable/_modules/strawberryfields/apps/sample.html\n",
    "#Has been edited\n",
    "with p.context as q:\n",
    "        #Convert matrix A into gates\n",
    "        sf.ops.GraphEmbed(dataset_adj_matrix, mean_photon_per_mode=mean_photon_per_mode) | q\n",
    "\n",
    "        #Threshold based measurement\n",
    "        sf.ops.MeasureThreshold() | q\n",
    "        "
   ]
  },
  {
   "cell_type": "code",
   "execution_count": 40,
   "id": "c77bf9a9-e151-48ae-b095-ffbe785de585",
   "metadata": {},
   "outputs": [
    {
     "name": "stderr",
     "output_type": "stream",
     "text": [
      "2023-12-18 19:15:11,113 - INFO - Compiling program for device simulon_gaussian using compiler gaussian.\n",
      "2023-12-18 19:16:18,960 - ERROR - The remote job a7920073-c707-492e-b22b-7c478d289c91 failed due to an internal server error: {'error-code': 'simulator-timeout', 'error-detail': 'The job did not complete in time. Please consider reducing the complexity of the job before trying again.'}. Please try again.\n"
     ]
    },
    {
     "ename": "FailedJobError",
     "evalue": "The remote job a7920073-c707-492e-b22b-7c478d289c91 failed due to an internal server error: {'error-code': 'simulator-timeout', 'error-detail': 'The job did not complete in time. Please consider reducing the complexity of the job before trying again.'}. Please try again.",
     "output_type": "error",
     "traceback": [
      "\u001b[1;31m---------------------------------------------------------------------------\u001b[0m",
      "\u001b[1;31mFailedJobError\u001b[0m                            Traceback (most recent call last)",
      "Cell \u001b[1;32mIn[40], line 1\u001b[0m\n\u001b[1;32m----> 1\u001b[0m s \u001b[38;5;241m=\u001b[39m \u001b[43meng\u001b[49m\u001b[38;5;241;43m.\u001b[39;49m\u001b[43mrun\u001b[49m\u001b[43m(\u001b[49m\u001b[43mp\u001b[49m\u001b[43m,\u001b[49m\u001b[43m \u001b[49m\u001b[43mshots\u001b[49m\u001b[38;5;241;43m=\u001b[39;49m\u001b[43mshots\u001b[49m\u001b[43m)\u001b[49m\n",
      "File \u001b[1;32m~\\Envs\\research_2023\\Lib\\site-packages\\strawberryfields\\engine.py:730\u001b[0m, in \u001b[0;36mRemoteEngine.run\u001b[1;34m(self, program, compile_options, recompile, **kwargs)\u001b[0m\n\u001b[0;32m    725\u001b[0m     message \u001b[38;5;241m=\u001b[39m (\n\u001b[0;32m    726\u001b[0m         \u001b[38;5;124mf\u001b[39m\u001b[38;5;124m\"\u001b[39m\u001b[38;5;124mThe remote job \u001b[39m\u001b[38;5;132;01m{\u001b[39;00mjob\u001b[38;5;241m.\u001b[39mid\u001b[38;5;132;01m}\u001b[39;00m\u001b[38;5;124m failed due to an internal \u001b[39m\u001b[38;5;124m\"\u001b[39m\n\u001b[0;32m    727\u001b[0m         \u001b[38;5;124mf\u001b[39m\u001b[38;5;124m\"\u001b[39m\u001b[38;5;124mserver error: \u001b[39m\u001b[38;5;132;01m{\u001b[39;00mjob\u001b[38;5;241m.\u001b[39mmetadata\u001b[38;5;132;01m}\u001b[39;00m\u001b[38;5;124m. Please try again.\u001b[39m\u001b[38;5;124m\"\u001b[39m\n\u001b[0;32m    728\u001b[0m     )\n\u001b[0;32m    729\u001b[0m     \u001b[38;5;28mself\u001b[39m\u001b[38;5;241m.\u001b[39mlog\u001b[38;5;241m.\u001b[39merror(message)\n\u001b[1;32m--> 730\u001b[0m     \u001b[38;5;28;01mraise\u001b[39;00m FailedJobError(message)\n\u001b[0;32m    732\u001b[0m \u001b[38;5;28;01mif\u001b[39;00m job\u001b[38;5;241m.\u001b[39mstatus \u001b[38;5;241m==\u001b[39m \u001b[38;5;124m\"\u001b[39m\u001b[38;5;124mcomplete\u001b[39m\u001b[38;5;124m\"\u001b[39m:\n\u001b[0;32m    733\u001b[0m     \u001b[38;5;28mself\u001b[39m\u001b[38;5;241m.\u001b[39mlog\u001b[38;5;241m.\u001b[39minfo(\u001b[38;5;124mf\u001b[39m\u001b[38;5;124m\"\u001b[39m\u001b[38;5;124mThe remote job \u001b[39m\u001b[38;5;132;01m{\u001b[39;00mjob\u001b[38;5;241m.\u001b[39mid\u001b[38;5;132;01m}\u001b[39;00m\u001b[38;5;124m has been completed.\u001b[39m\u001b[38;5;124m\"\u001b[39m)\n",
      "\u001b[1;31mFailedJobError\u001b[0m: The remote job a7920073-c707-492e-b22b-7c478d289c91 failed due to an internal server error: {'error-code': 'simulator-timeout', 'error-detail': 'The job did not complete in time. Please consider reducing the complexity of the job before trying again.'}. Please try again."
     ]
    }
   ],
   "source": [
    "s = eng.run(p, shots=shots)"
   ]
  },
  {
   "cell_type": "code",
   "execution_count": null,
   "id": "f9c284b0-af05-40aa-a85e-f1162798abbf",
   "metadata": {},
   "outputs": [],
   "source": [
    "#This is an issue, Thus, we used the sample method sf.apps on a compute server in our university"
   ]
  }
 ],
 "metadata": {
  "kernelspec": {
   "display_name": "research_2023",
   "language": "python",
   "name": "research_2023"
  },
  "language_info": {
   "codemirror_mode": {
    "name": "ipython",
    "version": 3
   },
   "file_extension": ".py",
   "mimetype": "text/x-python",
   "name": "python",
   "nbconvert_exporter": "python",
   "pygments_lexer": "ipython3",
   "version": "3.11.4"
  }
 },
 "nbformat": 4,
 "nbformat_minor": 5
}
