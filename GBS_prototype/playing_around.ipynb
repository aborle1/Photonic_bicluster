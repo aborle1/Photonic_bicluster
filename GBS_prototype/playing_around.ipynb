{
 "cells": [
  {
   "cell_type": "code",
   "execution_count": 1,
   "id": "914ac4b6-8b8d-4d06-b943-8dd006c29102",
   "metadata": {},
   "outputs": [],
   "source": [
    "#Note : THIS IS RANDOM DOODLING\n",
    "import numpy as np"
   ]
  },
  {
   "cell_type": "code",
   "execution_count": 26,
   "id": "00b931f0-5220-487f-a46b-f3b2a6afe273",
   "metadata": {},
   "outputs": [],
   "source": [
    "#Let us generate a symmetric matrix\n",
    "#The we has generate the fancy As : https://strawberryfields.ai/photonics/concepts/gbs.html\n",
    "np.random.seed(108)\n",
    "n=4\n",
    "A = np.random.randint(0,20,(n,n))\n",
    "A = A + A.T\n",
    "fancyA = np.zeros((2*n,2*n))\n",
    "eigval,eigvec = np.linalg.eig(A)\n",
    "A = (1/eigval.max())*A"
   ]
  },
  {
   "cell_type": "code",
   "execution_count": 27,
   "id": "e3cfb0db-ffd8-4d38-9978-bed4719cfdc5",
   "metadata": {},
   "outputs": [
    {
     "data": {
      "text/plain": [
       "array([[0.06797551, 0.39652379, 0.22658502, 0.20392652, 0.        ,\n",
       "        0.        , 0.        , 0.        ],\n",
       "       [0.39652379, 0.40785304, 0.23791427, 0.13595101, 0.        ,\n",
       "        0.        , 0.        , 0.        ],\n",
       "       [0.22658502, 0.23791427, 0.0226585 , 0.38519454, 0.        ,\n",
       "        0.        , 0.        , 0.        ],\n",
       "       [0.20392652, 0.13595101, 0.38519454, 0.27190203, 0.        ,\n",
       "        0.        , 0.        , 0.        ],\n",
       "       [0.        , 0.        , 0.        , 0.        , 0.06797551,\n",
       "        0.39652379, 0.22658502, 0.20392652],\n",
       "       [0.        , 0.        , 0.        , 0.        , 0.39652379,\n",
       "        0.40785304, 0.23791427, 0.13595101],\n",
       "       [0.        , 0.        , 0.        , 0.        , 0.22658502,\n",
       "        0.23791427, 0.0226585 , 0.38519454],\n",
       "       [0.        , 0.        , 0.        , 0.        , 0.20392652,\n",
       "        0.13595101, 0.38519454, 0.27190203]])"
      ]
     },
     "execution_count": 27,
     "metadata": {},
     "output_type": "execute_result"
    }
   ],
   "source": [
    "fancyA[0:n,0:n] = A\n",
    "fancyA[n:2*n,n:n*2] = A\n",
    "fancyA"
   ]
  },
  {
   "cell_type": "code",
   "execution_count": 28,
   "id": "a940010b-15f7-4bc3-8d3c-4541399df7e5",
   "metadata": {},
   "outputs": [],
   "source": [
    "#Not particularly useful right now. Lets take our symmetric A matrix and create the unitary from it\n",
    "from strawberryfields.decompositions import takagi\n",
    "rl,U = takagi(A)"
   ]
  },
  {
   "cell_type": "code",
   "execution_count": 29,
   "id": "cb27f5c9-c973-4ad1-97ef-29441e7ac0a6",
   "metadata": {},
   "outputs": [
    {
     "data": {
      "text/plain": [
       "1.1062259654625947e-15"
      ]
     },
     "execution_count": 29,
     "metadata": {},
     "output_type": "execute_result"
    }
   ],
   "source": [
    "#Checking if U is truely unitary\n",
    "#Value should be very small\n",
    "np.linalg.norm(U @ np.conjugate(U).T - np.identity(n))"
   ]
  },
  {
   "cell_type": "code",
   "execution_count": 35,
   "id": "e93a774d-40fc-4a07-a115-a507fac68f38",
   "metadata": {},
   "outputs": [
    {
     "data": {
      "text/plain": [
       "True"
      ]
     },
     "execution_count": 35,
     "metadata": {},
     "output_type": "execute_result"
    }
   ],
   "source": [
    "#Checking if A == U diag(rl) U.T\n",
    "np.allclose(A,U @ np.diag(rl) @ U.T)"
   ]
  },
  {
   "cell_type": "code",
   "execution_count": 38,
   "id": "a0fe7d2e-fe32-4adf-a967-313316eb9904",
   "metadata": {},
   "outputs": [],
   "source": [
    "A = np.random.randint(0,20,(n,n))\n",
    "A = A + A.T"
   ]
  },
  {
   "cell_type": "code",
   "execution_count": 39,
   "id": "2894dc1b-054b-414c-bff8-f13744b94f5b",
   "metadata": {},
   "outputs": [
    {
     "data": {
      "text/plain": [
       "(array([80.0070343 , 24.47446247, 18.9671774 ,  4.48568063]),\n",
       " array([[-0.44720331+0.j        ,  0.02955894+0.j        ,\n",
       "          0.        -0.3921556j ,  0.80333645+0.j        ],\n",
       "        [-0.64041363+0.j        , -0.43015264+0.j        ,\n",
       "          0.        -0.366938j  , -0.51980342+0.j        ],\n",
       "        [-0.51301829+0.j        , -0.11012303+0.j        ,\n",
       "          0.        +0.84142126j,  0.12921075+0.j        ],\n",
       "        [-0.35593793+0.j        ,  0.8955266 +0.j        ,\n",
       "          0.        -0.05983941j, -0.26030662+0.j        ]]))"
      ]
     },
     "execution_count": 39,
     "metadata": {},
     "output_type": "execute_result"
    }
   ],
   "source": []
  },
  {
   "cell_type": "code",
   "execution_count": null,
   "id": "6b979567-79c2-4003-87da-405e2bacf36c",
   "metadata": {},
   "outputs": [],
   "source": []
  }
 ],
 "metadata": {
  "kernelspec": {
   "display_name": "research_2023",
   "language": "python",
   "name": "research_2023"
  },
  "language_info": {
   "codemirror_mode": {
    "name": "ipython",
    "version": 3
   },
   "file_extension": ".py",
   "mimetype": "text/x-python",
   "name": "python",
   "nbconvert_exporter": "python",
   "pygments_lexer": "ipython3",
   "version": "3.11.4"
  }
 },
 "nbformat": 4,
 "nbformat_minor": 5
}
