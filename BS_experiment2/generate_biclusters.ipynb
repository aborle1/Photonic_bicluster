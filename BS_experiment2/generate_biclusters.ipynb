{
 "cells": [
  {
   "cell_type": "code",
   "execution_count": 1,
   "id": "cfd37c7f-50c5-426c-9856-f245101e28d9",
   "metadata": {},
   "outputs": [],
   "source": [
    "import numpy as np"
   ]
  },
  {
   "cell_type": "code",
   "execution_count": 2,
   "id": "82a4aff1-ac7b-4ebc-ad5a-fe1e82f280c0",
   "metadata": {},
   "outputs": [],
   "source": [
    "#Boson sampling\n",
    "#Experiment 2\n",
    "#Dataset size is 12 x 12\n",
    "#bicluster size is 6 x 6"
   ]
  },
  {
   "cell_type": "code",
   "execution_count": 3,
   "id": "5f35627a-9fdc-4187-a67b-60c2e52f7d58",
   "metadata": {},
   "outputs": [],
   "source": [
    "#Idea : (1) We will take bs_exp1_part1.npy load it and (2) then reshuffle the rows and columns  (3) save it as a new npz file with columns and rows "
   ]
  },
  {
   "cell_type": "code",
   "execution_count": 4,
   "id": "3eade390-008f-448f-8a56-bf7102fa75e3",
   "metadata": {},
   "outputs": [
    {
     "data": {
      "text/plain": [
       "array([[0.2, 0.1, 0.2, 0.2, 0.1, 0.2, 0.2, 0.2, 0.1, 0. , 0. , 0. ],\n",
       "       [0.1, 0. , 0.1, 0.1, 0.1, 0.1, 0.2, 0. , 0.2, 0.1, 0.1, 0. ],\n",
       "       [0.1, 0.2, 0. , 0.2, 0. , 0.1, 0. , 0. , 0. , 0. , 0. , 0. ],\n",
       "       [0.2, 0.2, 0.2, 0.7, 0.7, 0.8, 0.8, 0.9, 0.9, 0. , 0.2, 0. ],\n",
       "       [0.2, 0.2, 0.2, 0.7, 0.8, 0.7, 0.9, 0.8, 0.7, 0.2, 0.1, 0. ],\n",
       "       [0. , 0. , 0.2, 0.8, 0.9, 0.9, 0.7, 0.9, 0.7, 0.1, 0.2, 0.1],\n",
       "       [0.1, 0.2, 0. , 0.7, 0.7, 0.9, 0.9, 0.8, 0.8, 0.2, 0.2, 0.2],\n",
       "       [0.1, 0. , 0. , 0.8, 0.7, 0.8, 0.7, 0.9, 0.7, 0.1, 0. , 0.1],\n",
       "       [0.1, 0.1, 0. , 0.7, 0.8, 0.7, 0.9, 0.8, 0.7, 0.1, 0.1, 0. ],\n",
       "       [0.1, 0.1, 0.2, 0. , 0. , 0.1, 0. , 0.1, 0. , 0.2, 0.2, 0.1],\n",
       "       [0.1, 0. , 0. , 0. , 0. , 0.1, 0. , 0. , 0.1, 0.2, 0.1, 0.2],\n",
       "       [0.1, 0.2, 0. , 0. , 0.1, 0. , 0. , 0.1, 0.2, 0.2, 0.1, 0.1]])"
      ]
     },
     "execution_count": 4,
     "metadata": {},
     "output_type": "execute_result"
    }
   ],
   "source": [
    "#Load  bs_exp1_part1.npy \n",
    "dataset = np.load('./problems/bs_exp1_part1.npy')\n",
    "dataset"
   ]
  },
  {
   "cell_type": "code",
   "execution_count": 5,
   "id": "a6d063f5-ec6b-4db4-befe-9c63e1ba6199",
   "metadata": {},
   "outputs": [
    {
     "name": "stdout",
     "output_type": "stream",
     "text": [
      "[11  0  5  8  9 10  4  2  6  1  7  3]\n",
      "[11 10  3  5  8  0  7  6  4  2  1  9]\n",
      "Bicluster is in cols: [[2, 5], [3, 8], [6, 4], [8, 6], [10, 7], [11, 3]], rows: [[2, 3], [3, 5], [4, 8], [6, 7], [7, 6], [8, 4]]\n"
     ]
    }
   ],
   "source": [
    "np.random.seed(108)\n",
    "col_idx = np.random.permutation(12)\n",
    "row_idx = np.random.permutation(12)\n",
    "\n",
    "bicluster_old_idx = [3,4,5,6,7,8] #for both row and columns\n",
    "bicluster_col_idx = []\n",
    "bicluster_row_idx = []\n",
    "\n",
    "#Locate the columns and rows of the bicluster\n",
    "#for both bicluster_row_idx and bicluster_col_idx: first column is idx position in new dataset, second is idx position in old dataset\n",
    "for i in range(0,len(col_idx)):\n",
    "    if col_idx[i] in bicluster_old_idx:\n",
    "        bicluster_col_idx.append([i, col_idx[i]])\n",
    "    if row_idx[i] in bicluster_old_idx:\n",
    "        bicluster_row_idx.append([i, row_idx[i]])\n",
    "\n",
    "\n",
    "print(col_idx)\n",
    "print(row_idx)\n",
    "print(f\"Bicluster is in cols: {bicluster_col_idx}, rows: {bicluster_row_idx}\")"
   ]
  },
  {
   "cell_type": "code",
   "execution_count": 6,
   "id": "91d0c70d-f0dc-4dee-a179-c50a2da50f3f",
   "metadata": {},
   "outputs": [
    {
     "data": {
      "text/plain": [
       "array([[11,  3],\n",
       "       [ 6,  4],\n",
       "       [ 2,  5],\n",
       "       [ 8,  6],\n",
       "       [10,  7],\n",
       "       [ 3,  8]])"
      ]
     },
     "execution_count": 6,
     "metadata": {},
     "output_type": "execute_result"
    }
   ],
   "source": [
    "#sort according to second column of  bicluster_col_idx\n",
    "bicluster_col_idx = np.array(bicluster_col_idx)\n",
    "bicluster_col_idx = bicluster_col_idx[bicluster_col_idx[:, 1].argsort()]\n",
    "bicluster_col_idx"
   ]
  },
  {
   "cell_type": "code",
   "execution_count": 7,
   "id": "eb7a59ee-978c-4fef-8769-7ca105d488fb",
   "metadata": {},
   "outputs": [
    {
     "data": {
      "text/plain": [
       "array([[2, 3],\n",
       "       [8, 4],\n",
       "       [3, 5],\n",
       "       [7, 6],\n",
       "       [6, 7],\n",
       "       [4, 8]])"
      ]
     },
     "execution_count": 7,
     "metadata": {},
     "output_type": "execute_result"
    }
   ],
   "source": [
    "#sort according to second row of  bicluster_col_idx\n",
    "bicluster_row_idx = np.array(bicluster_row_idx)\n",
    "bicluster_row_idx = bicluster_row_idx[bicluster_row_idx[:, 1].argsort()]\n",
    "bicluster_row_idx"
   ]
  },
  {
   "cell_type": "code",
   "execution_count": 8,
   "id": "53b0c67d-b20b-4695-9f5a-156ee05e8c26",
   "metadata": {},
   "outputs": [
    {
     "data": {
      "text/plain": [
       "array([[0. , 0.2, 0.2, 0.1, 0. , 0. , 0.1, 0.2, 0.2, 0.1, 0.2, 0.2],\n",
       "       [0. , 0.1, 0.1, 0.2, 0.1, 0.1, 0.1, 0.1, 0.2, 0. , 0. , 0.1],\n",
       "       [0. , 0.1, 0.1, 0. , 0. , 0. , 0. , 0. , 0. , 0.2, 0. , 0.2],\n",
       "       [0. , 0.2, 0.8, 0.9, 0. , 0.2, 0.7, 0.2, 0.8, 0.2, 0.9, 0.7],\n",
       "       [0. , 0.2, 0.7, 0.7, 0.2, 0.1, 0.8, 0.2, 0.9, 0.2, 0.8, 0.7],\n",
       "       [0.1, 0. , 0.9, 0.7, 0.1, 0.2, 0.9, 0.2, 0.7, 0. , 0.9, 0.8],\n",
       "       [0.2, 0.1, 0.9, 0.8, 0.2, 0.2, 0.7, 0. , 0.9, 0.2, 0.8, 0.7],\n",
       "       [0.1, 0.1, 0.8, 0.7, 0.1, 0. , 0.7, 0. , 0.7, 0. , 0.9, 0.8],\n",
       "       [0. , 0.1, 0.7, 0.7, 0.1, 0.1, 0.8, 0. , 0.9, 0.1, 0.8, 0.7],\n",
       "       [0.1, 0.1, 0.1, 0. , 0.2, 0.2, 0. , 0.2, 0. , 0.1, 0.1, 0. ],\n",
       "       [0.2, 0.1, 0.1, 0.1, 0.2, 0.1, 0. , 0. , 0. , 0. , 0. , 0. ],\n",
       "       [0.1, 0.1, 0. , 0.2, 0.2, 0.1, 0.1, 0. , 0. , 0.2, 0.1, 0. ]])"
      ]
     },
     "execution_count": 8,
     "metadata": {},
     "output_type": "execute_result"
    }
   ],
   "source": [
    "#Now for the actual shuffling\n",
    "#Shuffle the columns of dataset and copy it to new_dataset\n",
    "new_dataset = dataset[:,col_idx].copy()\n",
    "new_dataset"
   ]
  },
  {
   "cell_type": "code",
   "execution_count": 9,
   "id": "4f91e21f-928b-4ede-a249-53b226d5589e",
   "metadata": {},
   "outputs": [
    {
     "data": {
      "text/plain": [
       "array([[0.1, 0.1, 0. , 0.2, 0.2, 0.1, 0.1, 0. , 0. , 0.2, 0.1, 0. ],\n",
       "       [0.2, 0.1, 0.1, 0.1, 0.2, 0.1, 0. , 0. , 0. , 0. , 0. , 0. ],\n",
       "       [0. , 0.2, 0.8, 0.9, 0. , 0.2, 0.7, 0.2, 0.8, 0.2, 0.9, 0.7],\n",
       "       [0.1, 0. , 0.9, 0.7, 0.1, 0.2, 0.9, 0.2, 0.7, 0. , 0.9, 0.8],\n",
       "       [0. , 0.1, 0.7, 0.7, 0.1, 0.1, 0.8, 0. , 0.9, 0.1, 0.8, 0.7],\n",
       "       [0. , 0.2, 0.2, 0.1, 0. , 0. , 0.1, 0.2, 0.2, 0.1, 0.2, 0.2],\n",
       "       [0.1, 0.1, 0.8, 0.7, 0.1, 0. , 0.7, 0. , 0.7, 0. , 0.9, 0.8],\n",
       "       [0.2, 0.1, 0.9, 0.8, 0.2, 0.2, 0.7, 0. , 0.9, 0.2, 0.8, 0.7],\n",
       "       [0. , 0.2, 0.7, 0.7, 0.2, 0.1, 0.8, 0.2, 0.9, 0.2, 0.8, 0.7],\n",
       "       [0. , 0.1, 0.1, 0. , 0. , 0. , 0. , 0. , 0. , 0.2, 0. , 0.2],\n",
       "       [0. , 0.1, 0.1, 0.2, 0.1, 0.1, 0.1, 0.1, 0.2, 0. , 0. , 0.1],\n",
       "       [0.1, 0.1, 0.1, 0. , 0.2, 0.2, 0. , 0.2, 0. , 0.1, 0.1, 0. ]])"
      ]
     },
     "execution_count": 9,
     "metadata": {},
     "output_type": "execute_result"
    }
   ],
   "source": [
    "#Shuffle the rows of new_dataset\n",
    "new_dataset = new_dataset[row_idx,:]\n",
    "new_dataset"
   ]
  },
  {
   "cell_type": "code",
   "execution_count": 10,
   "id": "98f4ff8b-3cf9-47eb-b479-ed07661c629e",
   "metadata": {},
   "outputs": [
    {
     "data": {
      "text/plain": [
       "array([[0.7, 0.7, 0.8, 0.8, 0.9, 0.9],\n",
       "       [0.7, 0.8, 0.7, 0.9, 0.8, 0.7],\n",
       "       [0.8, 0.9, 0.9, 0.7, 0.9, 0.7],\n",
       "       [0.7, 0.7, 0.9, 0.9, 0.8, 0.8],\n",
       "       [0.8, 0.7, 0.8, 0.7, 0.9, 0.7],\n",
       "       [0.7, 0.8, 0.7, 0.9, 0.8, 0.7]])"
      ]
     },
     "execution_count": 10,
     "metadata": {},
     "output_type": "execute_result"
    }
   ],
   "source": [
    "#Extract the bicluster from the new_dataset based on the idx values in bicluster_row_idx and bicluster_col_idx\n",
    "new_dataset[np.ix_(bicluster_row_idx[:,0], bicluster_col_idx[:,0])]"
   ]
  },
  {
   "cell_type": "code",
   "execution_count": 11,
   "id": "3ffda2bf-39ce-4a28-9922-ba26dd6fb79d",
   "metadata": {},
   "outputs": [
    {
     "data": {
      "text/plain": [
       "array([[0.7, 0.7, 0.8, 0.8, 0.9, 0.9],\n",
       "       [0.7, 0.8, 0.7, 0.9, 0.8, 0.7],\n",
       "       [0.8, 0.9, 0.9, 0.7, 0.9, 0.7],\n",
       "       [0.7, 0.7, 0.9, 0.9, 0.8, 0.8],\n",
       "       [0.8, 0.7, 0.8, 0.7, 0.9, 0.7],\n",
       "       [0.7, 0.8, 0.7, 0.9, 0.8, 0.7]])"
      ]
     },
     "execution_count": 11,
     "metadata": {},
     "output_type": "execute_result"
    }
   ],
   "source": [
    "dataset[3:9,3:9] #just to check if the bicluster in the original dataset is the same"
   ]
  },
  {
   "cell_type": "code",
   "execution_count": 12,
   "id": "eee09e21-71a5-4d55-af8b-a48e27a5ef6d",
   "metadata": {},
   "outputs": [
    {
     "data": {
      "text/plain": [
       "0.0"
      ]
     },
     "execution_count": 12,
     "metadata": {},
     "output_type": "execute_result"
    }
   ],
   "source": [
    "#Sanity check ||old_bicluster - shuffledbicluster|| --> 0\n",
    "np.linalg.norm(new_dataset[np.ix_(bicluster_row_idx[:,0], bicluster_col_idx[:,0])] - dataset[3:9,3:9])"
   ]
  },
  {
   "cell_type": "code",
   "execution_count": 13,
   "id": "c2400f9c-8e66-4253-9ba6-16fa9622f49e",
   "metadata": {},
   "outputs": [],
   "source": [
    "#Now save it to the npz\n",
    "#arr_0 : new_dataset\n",
    "#arr_1 : row_idx\n",
    "#arr_2 : col_idx\n",
    "#arr_3 : bicluster_row_idx\n",
    "#arr_4 : bicluster_col_idx\n",
    "np.savez('./problems/bs_exp2_part1.npz',new_dataset,row_idx,col_idx,bicluster_row_idx,bicluster_col_idx)"
   ]
  },
  {
   "cell_type": "code",
   "execution_count": null,
   "id": "8c65ac44-53d1-4783-b6f4-f1ca8bfd0b7f",
   "metadata": {},
   "outputs": [],
   "source": []
  }
 ],
 "metadata": {
  "kernelspec": {
   "display_name": "research_2023",
   "language": "python",
   "name": "research_2023"
  },
  "language_info": {
   "codemirror_mode": {
    "name": "ipython",
    "version": 3
   },
   "file_extension": ".py",
   "mimetype": "text/x-python",
   "name": "python",
   "nbconvert_exporter": "python",
   "pygments_lexer": "ipython3",
   "version": "3.11.4"
  }
 },
 "nbformat": 4,
 "nbformat_minor": 5
}
