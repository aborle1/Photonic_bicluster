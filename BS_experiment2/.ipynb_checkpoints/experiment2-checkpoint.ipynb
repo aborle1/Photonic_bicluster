{
 "cells": [
  {
   "cell_type": "code",
   "execution_count": 1,
   "id": "08f78753-3392-45a2-a55d-410e4cd76fcc",
   "metadata": {},
   "outputs": [],
   "source": [
    "import numpy as np\n",
    "import networkx as nx\n",
    "from scipy.linalg import sqrtm\n",
    "import time\n",
    "\n",
    "import perceval as pcvl\n",
    "from perceval.algorithm import Sampler\n",
    "from bs_bicluster_class import BS_bicluster"
   ]
  },
  {
   "cell_type": "code",
   "execution_count": 2,
   "id": "e833ad21-fab4-4dfe-8aea-5d612f026d29",
   "metadata": {},
   "outputs": [],
   "source": [
    "#Load dataset\n",
    "fp = np.load('./problems/bs_exp2_part1.npz')"
   ]
  },
  {
   "cell_type": "code",
   "execution_count": 3,
   "id": "feca2c25-6a0c-41ca-ac72-9ecb2aa5a585",
   "metadata": {},
   "outputs": [],
   "source": [
    "#First we shall sample for the columns and rows where we know the results"
   ]
  },
  {
   "cell_type": "code",
   "execution_count": 4,
   "id": "bd33b15b-1d7a-465e-bdf1-bfb80e3e89bd",
   "metadata": {},
   "outputs": [],
   "source": [
    "dataset = fp['arr_0']\n",
    "shuffle_row_idx = fp['arr_1']\n",
    "shuffle_col_idx = fp['arr_2']\n",
    "bicluster_row_idx = fp['arr_3']\n",
    "bicluster_col_idx = fp['arr_4']"
   ]
  },
  {
   "cell_type": "code",
   "execution_count": 5,
   "id": "92a96055-bebf-407b-b145-c22147b03002",
   "metadata": {},
   "outputs": [
    {
     "data": {
      "text/plain": [
       "array([ 2,  3,  6,  8, 10, 11])"
      ]
     },
     "execution_count": 5,
     "metadata": {},
     "output_type": "execute_result"
    }
   ],
   "source": [
    "col_idx = np.sort(bicluster_col_idx[:,0])\n",
    "col_idx"
   ]
  },
  {
   "cell_type": "code",
   "execution_count": 6,
   "id": "df429a53-0a2c-4ce1-acec-7844687de8fd",
   "metadata": {},
   "outputs": [],
   "source": [
    "desired_output_state = []\n",
    "for i in range(0,12):\n",
    "    if i in bicluster_row_idx[:,0]:\n",
    "        desired_output_state.append(1)\n",
    "    else:\n",
    "        desired_output_state.append(0)\n",
    "desired_output_state += [0 for i in range(0,12)]"
   ]
  },
  {
   "cell_type": "code",
   "execution_count": 7,
   "id": "df15606b-1d09-456a-beb8-4b47beef4e77",
   "metadata": {},
   "outputs": [
    {
     "name": "stdout",
     "output_type": "stream",
     "text": [
      "Unitary error: 3.196730853217193e-08\n",
      "Input state is:  |0,0,1,1,0,0,1,0,1,0,1,1,0,0,0,0,0,0,0,0,0,0,0,0>\n",
      "Desired probability (basic): (0.00016, 16, 100000)\n",
      "Desired modes: [0, 1, 2, 3, 4, 5, 6, 7, 8, 9, 10, 11]\n",
      "Undesired modes: [12, 13, 14, 15, 16, 17, 18, 19, 20, 21, 22, 23]\n",
      "Desired probability (postselected): (0.6153846153846154, 16, 26)\n"
     ]
    }
   ],
   "source": [
    "shots = 10 ** 5\n",
    "bs_cluster = BS_bicluster(dataset)#,'quandela_token.txt')\n",
    "bs_cluster.prepare_backend()#('sim:clifford')\n",
    "print(\"Unitary error:\",bs_cluster.unitary_error)\n",
    "raw_samples = bs_cluster.boson_sampling(col_idx,shots)\n",
    "\n",
    "#quick analysis\n",
    "# (Probability, numerator, denominator)\n",
    "print(\"Desired probability (basic):\",bs_cluster.get_probability(desired_output_state,row_postselect=False))\n",
    "print(\"Desired probability (postselected):\",bs_cluster.get_probability(desired_output_state,row_postselect=True))"
   ]
  },
  {
   "cell_type": "code",
   "execution_count": 11,
   "id": "9a59323b-5adf-4832-8b9b-133c202ccd53",
   "metadata": {},
   "outputs": [],
   "source": [
    "x = bs_cluster.get_majority_sample()"
   ]
  },
  {
   "cell_type": "code",
   "execution_count": 15,
   "id": "de5ddba7-4e13-4ea8-9a3e-fde7205da0c5",
   "metadata": {},
   "outputs": [
    {
     "data": {
      "text/plain": [
       "'|0,0,1,1,1,0,1,1,1,0,0,0,0,0,0,0,0,0,0,0,0,0,0,0>'"
      ]
     },
     "execution_count": 15,
     "metadata": {},
     "output_type": "execute_result"
    }
   ],
   "source": [
    "import statistics\n",
    "statistics.mode(x)"
   ]
  },
  {
   "cell_type": "code",
   "execution_count": 9,
   "id": "305d0e07-d2df-4ff9-9a89-cc342779cec6",
   "metadata": {},
   "outputs": [],
   "source": [
    "x = np.array(x)\n"
   ]
  },
  {
   "cell_type": "code",
   "execution_count": null,
   "id": "24eaf9a8-0284-4979-ab04-8dc3a6605955",
   "metadata": {},
   "outputs": [],
   "source": []
  }
 ],
 "metadata": {
  "kernelspec": {
   "display_name": "research_2023",
   "language": "python",
   "name": "research_2023"
  },
  "language_info": {
   "codemirror_mode": {
    "name": "ipython",
    "version": 3
   },
   "file_extension": ".py",
   "mimetype": "text/x-python",
   "name": "python",
   "nbconvert_exporter": "python",
   "pygments_lexer": "ipython3",
   "version": "3.11.4"
  }
 },
 "nbformat": 4,
 "nbformat_minor": 5
}
