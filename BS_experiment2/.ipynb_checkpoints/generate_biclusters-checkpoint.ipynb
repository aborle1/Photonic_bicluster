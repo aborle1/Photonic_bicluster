{
 "cells": [
  {
   "cell_type": "code",
   "execution_count": 1,
   "id": "cfd37c7f-50c5-426c-9856-f245101e28d9",
   "metadata": {},
   "outputs": [],
   "source": [
    "import numpy as np"
   ]
  },
  {
   "cell_type": "code",
   "execution_count": 2,
   "id": "82a4aff1-ac7b-4ebc-ad5a-fe1e82f280c0",
   "metadata": {},
   "outputs": [],
   "source": [
    "#Boson sampling\n",
    "#Experiment 2\n",
    "#Dataset size is 12 x 12\n",
    "#bicluster size is 6 x 6"
   ]
  },
  {
   "cell_type": "code",
   "execution_count": null,
   "id": "5f35627a-9fdc-4187-a67b-60c2e52f7d58",
   "metadata": {},
   "outputs": [],
   "source": [
    "#Idea : (1) We will take bs_exp1_part1.npy load it and (2) then reshuffle the rows and columns  (3) save it as a new npz file with columns and rows "
   ]
  },
  {
   "cell_type": "code",
   "execution_count": null,
   "id": "3eade390-008f-448f-8a56-bf7102fa75e3",
   "metadata": {},
   "outputs": [],
   "source": [
    "#Load  bs_exp1_part1.npy \n"
   ]
  },
  {
   "cell_type": "code",
   "execution_count": 3,
   "id": "49cab855-dba6-4345-bc3d-1cd4f6f60762",
   "metadata": {},
   "outputs": [],
   "source": [
    "#Seeding for reproducibility\n",
    "np.random.seed(4)\n",
    "\n",
    "#Our bicluster (values are one of these 0.9,0.8,0.7)\n",
    "bicluster = np.random.choice([0.9,0.8,0.7], [6,6], replace=True) # a 6 x 6 bicluster\n"
   ]
  },
  {
   "cell_type": "code",
   "execution_count": 4,
   "id": "56ef87e9-3219-4e0e-8370-9041a97c1036",
   "metadata": {},
   "outputs": [],
   "source": [
    "# PART 1 to 5 (or 0 to 4), with the same bicluster populate the rest of the dataset with values,\n",
    "# \n",
    "for i in range(0,5):\n",
    "    num_range = [j *0.1 for j in range(0,i+2)] #numbers that cells in the data matrix can take\n",
    "    D = np.random.choice(num_range,[12,12],replace=True)\n",
    "    \n",
    "\n",
    "    #Nest the bicluster within the dataset\n",
    "    D[3:9,3:9] = bicluster\n",
    "    file_name = './problems/bs_exp1_part'+ str(i) + '.npy' #save them in the problems folder\n",
    "    np.save(file_name,D)"
   ]
  },
  {
   "cell_type": "code",
   "execution_count": 5,
   "id": "7d4bc406-81db-4ea6-9793-5e5517b0b830",
   "metadata": {},
   "outputs": [],
   "source": [
    "#PART 6 : Binary bicluster, everything else is 0\n",
    "\n",
    "bicluster = np.ones([6,6]) # a 6 x 6 bicluster, everything is one\n",
    "D = np.zeros([12,12])\n",
    "D[3:9,3:9] = bicluster\n",
    "i= 5 # remember, its a 0-based index\n",
    "file_name = './problems/bs_exp1_part'+ str(i) + '.npy'\n",
    "np.save(file_name,D)"
   ]
  },
  {
   "cell_type": "code",
   "execution_count": 6,
   "id": "44a62f52-a6b7-41ce-921e-a5d20a070f60",
   "metadata": {},
   "outputs": [
    {
     "data": {
      "text/plain": [
       "array([[0., 0., 0., 0., 0., 0., 0., 0., 0., 0., 0., 0.],\n",
       "       [0., 0., 0., 0., 0., 0., 0., 0., 0., 0., 0., 0.],\n",
       "       [0., 0., 0., 0., 0., 0., 0., 0., 0., 0., 0., 0.],\n",
       "       [0., 0., 0., 1., 1., 1., 1., 1., 1., 0., 0., 0.],\n",
       "       [0., 0., 0., 1., 1., 1., 1., 1., 1., 0., 0., 0.],\n",
       "       [0., 0., 0., 1., 1., 1., 1., 1., 1., 0., 0., 0.],\n",
       "       [0., 0., 0., 1., 1., 1., 1., 1., 1., 0., 0., 0.],\n",
       "       [0., 0., 0., 1., 1., 1., 1., 1., 1., 0., 0., 0.],\n",
       "       [0., 0., 0., 1., 1., 1., 1., 1., 1., 0., 0., 0.],\n",
       "       [0., 0., 0., 0., 0., 0., 0., 0., 0., 0., 0., 0.],\n",
       "       [0., 0., 0., 0., 0., 0., 0., 0., 0., 0., 0., 0.],\n",
       "       [0., 0., 0., 0., 0., 0., 0., 0., 0., 0., 0., 0.]])"
      ]
     },
     "execution_count": 6,
     "metadata": {},
     "output_type": "execute_result"
    }
   ],
   "source": [
    "D"
   ]
  },
  {
   "cell_type": "code",
   "execution_count": null,
   "id": "4bbb6361-de0c-49d4-a46e-5c483cbf3cd8",
   "metadata": {},
   "outputs": [],
   "source": []
  },
  {
   "cell_type": "code",
   "execution_count": null,
   "id": "ef3caa88-e814-47bd-999b-dfbb607d2527",
   "metadata": {},
   "outputs": [],
   "source": []
  }
 ],
 "metadata": {
  "kernelspec": {
   "display_name": "research_2023",
   "language": "python",
   "name": "research_2023"
  },
  "language_info": {
   "codemirror_mode": {
    "name": "ipython",
    "version": 3
   },
   "file_extension": ".py",
   "mimetype": "text/x-python",
   "name": "python",
   "nbconvert_exporter": "python",
   "pygments_lexer": "ipython3",
   "version": "3.11.4"
  }
 },
 "nbformat": 4,
 "nbformat_minor": 5
}
