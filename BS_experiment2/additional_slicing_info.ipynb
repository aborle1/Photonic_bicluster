{
 "cells": [
  {
   "cell_type": "code",
   "execution_count": 1,
   "id": "d32597ed",
   "metadata": {},
   "outputs": [],
   "source": [
    "import numpy as np"
   ]
  },
  {
   "cell_type": "markdown",
   "id": "dffae564",
   "metadata": {},
   "source": [
    "arange is like range that creates a numpy array"
   ]
  },
  {
   "cell_type": "code",
   "execution_count": 2,
   "id": "4f1de832",
   "metadata": {},
   "outputs": [
    {
     "data": {
      "text/plain": [
       "array([ 1,  2,  3,  4,  5,  6,  7,  8,  9, 10, 11, 12, 13, 14, 15, 16])"
      ]
     },
     "execution_count": 2,
     "metadata": {},
     "output_type": "execute_result"
    }
   ],
   "source": [
    "x = np.arange(1,17,)\n",
    "x"
   ]
  },
  {
   "cell_type": "markdown",
   "id": "e267c774",
   "metadata": {},
   "source": [
    "arange can be incremented in float!"
   ]
  },
  {
   "cell_type": "code",
   "execution_count": 3,
   "id": "05f07feb",
   "metadata": {},
   "outputs": [
    {
     "data": {
      "text/plain": [
       "array([ 1. ,  1.2,  1.4,  1.6,  1.8,  2. ,  2.2,  2.4,  2.6,  2.8,  3. ,\n",
       "        3.2,  3.4,  3.6,  3.8,  4. ,  4.2,  4.4,  4.6,  4.8,  5. ,  5.2,\n",
       "        5.4,  5.6,  5.8,  6. ,  6.2,  6.4,  6.6,  6.8,  7. ,  7.2,  7.4,\n",
       "        7.6,  7.8,  8. ,  8.2,  8.4,  8.6,  8.8,  9. ,  9.2,  9.4,  9.6,\n",
       "        9.8, 10. , 10.2, 10.4, 10.6, 10.8, 11. , 11.2, 11.4, 11.6, 11.8,\n",
       "       12. , 12.2, 12.4, 12.6, 12.8, 13. , 13.2, 13.4, 13.6, 13.8, 14. ,\n",
       "       14.2, 14.4, 14.6, 14.8, 15. , 15.2, 15.4, 15.6, 15.8, 16. , 16.2,\n",
       "       16.4, 16.6, 16.8])"
      ]
     },
     "execution_count": 3,
     "metadata": {},
     "output_type": "execute_result"
    }
   ],
   "source": [
    "x = np.arange(1,17,0.2)\n",
    "x"
   ]
  },
  {
   "cell_type": "markdown",
   "id": "1fba7cf9",
   "metadata": {},
   "source": [
    "I can 'reshape' my uni-dimensional np array into other shape. In this case, this is a matrix:"
   ]
  },
  {
   "cell_type": "code",
   "execution_count": 4,
   "id": "c23cc023",
   "metadata": {},
   "outputs": [
    {
     "data": {
      "text/plain": [
       "array([[ 1,  2,  3,  4],\n",
       "       [ 5,  6,  7,  8],\n",
       "       [ 9, 10, 11, 12],\n",
       "       [13, 14, 15, 16]])"
      ]
     },
     "execution_count": 4,
     "metadata": {},
     "output_type": "execute_result"
    }
   ],
   "source": [
    "x =np.arange(1,17).reshape((4,4))\n",
    "x"
   ]
  },
  {
   "cell_type": "markdown",
   "id": "6fa56554",
   "metadata": {},
   "source": [
    "I want to access the first element (row 0 col 0)"
   ]
  },
  {
   "cell_type": "code",
   "execution_count": 5,
   "id": "dbce9698",
   "metadata": {},
   "outputs": [
    {
     "data": {
      "text/plain": [
       "1"
      ]
     },
     "execution_count": 5,
     "metadata": {},
     "output_type": "execute_result"
    }
   ],
   "source": [
    "x[0,0]"
   ]
  },
  {
   "cell_type": "markdown",
   "id": "d13b58f0",
   "metadata": {},
   "source": [
    " (row 0 col 1)"
   ]
  },
  {
   "cell_type": "code",
   "execution_count": 6,
   "id": "94ce98b6",
   "metadata": {},
   "outputs": [
    {
     "data": {
      "text/plain": [
       "2"
      ]
     },
     "execution_count": 6,
     "metadata": {},
     "output_type": "execute_result"
    }
   ],
   "source": [
    "x[0,1]"
   ]
  },
  {
   "cell_type": "markdown",
   "id": "454d7e89",
   "metadata": {},
   "source": [
    "Select a column (slicing across all the rows)"
   ]
  },
  {
   "cell_type": "code",
   "execution_count": 7,
   "id": "ad699adc",
   "metadata": {},
   "outputs": [
    {
     "data": {
      "text/plain": [
       "array([ 3,  7, 11, 15])"
      ]
     },
     "execution_count": 7,
     "metadata": {},
     "output_type": "execute_result"
    }
   ],
   "source": [
    "x[:,2]"
   ]
  },
  {
   "cell_type": "markdown",
   "id": "3443fe22",
   "metadata": {},
   "source": [
    "Select a row (slicing across all the columns)"
   ]
  },
  {
   "cell_type": "code",
   "execution_count": 8,
   "id": "a16d6101",
   "metadata": {},
   "outputs": [
    {
     "data": {
      "text/plain": [
       "array([ 9, 10, 11, 12])"
      ]
     },
     "execution_count": 8,
     "metadata": {},
     "output_type": "execute_result"
    }
   ],
   "source": [
    "x[2,:]"
   ]
  },
  {
   "cell_type": "markdown",
   "id": "0fed9839",
   "metadata": {},
   "source": [
    "Selecting a sub-matrix from x"
   ]
  },
  {
   "cell_type": "code",
   "execution_count": 9,
   "id": "daa6c167",
   "metadata": {},
   "outputs": [
    {
     "data": {
      "text/plain": [
       "array([[1, 2],\n",
       "       [5, 6]])"
      ]
     },
     "execution_count": 9,
     "metadata": {},
     "output_type": "execute_result"
    }
   ],
   "source": [
    "x[0:2,0:2]"
   ]
  },
  {
   "cell_type": "code",
   "execution_count": 10,
   "id": "93cfba0b",
   "metadata": {},
   "outputs": [
    {
     "data": {
      "text/plain": [
       "array([[11, 12],\n",
       "       [15, 16]])"
      ]
     },
     "execution_count": 10,
     "metadata": {},
     "output_type": "execute_result"
    }
   ],
   "source": [
    "x[2:4,2:4]"
   ]
  },
  {
   "cell_type": "markdown",
   "id": "be2334f7",
   "metadata": {},
   "source": [
    "Access multiple items from the matrix"
   ]
  },
  {
   "cell_type": "code",
   "execution_count": 11,
   "id": "9c19dd14",
   "metadata": {},
   "outputs": [
    {
     "data": {
      "text/plain": [
       "array([11,  8])"
      ]
     },
     "execution_count": 11,
     "metadata": {},
     "output_type": "execute_result"
    }
   ],
   "source": [
    "x[(2,1),(2,3)]"
   ]
  },
  {
   "cell_type": "markdown",
   "id": "e8ed1935",
   "metadata": {},
   "source": [
    "Access non-contiguous rows and columns from the Matrix x"
   ]
  },
  {
   "cell_type": "code",
   "execution_count": 14,
   "id": "2c017191",
   "metadata": {},
   "outputs": [
    {
     "data": {
      "text/plain": [
       "array([[ 2,  3],\n",
       "       [14, 15]])"
      ]
     },
     "execution_count": 14,
     "metadata": {},
     "output_type": "execute_result"
    }
   ],
   "source": [
    "rows = [0,3]\n",
    "cols = [1,2]\n",
    "x[np.ix_(rows, cols)]"
   ]
  },
  {
   "cell_type": "code",
   "execution_count": null,
   "id": "972b6116",
   "metadata": {},
   "outputs": [],
   "source": []
  },
  {
   "cell_type": "code",
   "execution_count": 15,
   "id": "cf4a8873",
   "metadata": {},
   "outputs": [
    {
     "data": {
      "text/plain": [
       "(array([[0],\n",
       "        [3]]),\n",
       " array([[1, 2]]))"
      ]
     },
     "execution_count": 15,
     "metadata": {},
     "output_type": "execute_result"
    }
   ],
   "source": [
    "np.ix_(rows, cols)"
   ]
  },
  {
   "cell_type": "code",
   "execution_count": null,
   "id": "fbee21b2",
   "metadata": {},
   "outputs": [],
   "source": []
  },
  {
   "cell_type": "code",
   "execution_count": null,
   "id": "f6f7dc69",
   "metadata": {},
   "outputs": [],
   "source": []
  },
  {
   "cell_type": "code",
   "execution_count": null,
   "id": "a63ea17c",
   "metadata": {},
   "outputs": [],
   "source": []
  },
  {
   "cell_type": "code",
   "execution_count": null,
   "id": "e4931941",
   "metadata": {},
   "outputs": [],
   "source": []
  },
  {
   "cell_type": "code",
   "execution_count": null,
   "id": "26d22810",
   "metadata": {},
   "outputs": [],
   "source": []
  },
  {
   "cell_type": "code",
   "execution_count": 13,
   "id": "41173a19",
   "metadata": {},
   "outputs": [],
   "source": [
    "l = [[1,2],[3,4],[5,6]]"
   ]
  },
  {
   "cell_type": "code",
   "execution_count": null,
   "id": "e0da58c3",
   "metadata": {},
   "outputs": [],
   "source": []
  },
  {
   "cell_type": "code",
   "execution_count": 17,
   "id": "095203e9",
   "metadata": {},
   "outputs": [],
   "source": [
    "a1 = np.array([0,1,1,3])\n"
   ]
  },
  {
   "cell_type": "code",
   "execution_count": 18,
   "id": "0a354852-507c-4b9d-b653-27c47b96756c",
   "metadata": {},
   "outputs": [
    {
     "data": {
      "text/plain": [
       "True"
      ]
     },
     "execution_count": 18,
     "metadata": {},
     "output_type": "execute_result"
    }
   ],
   "source": [
    "all( i < 4 for i in a1)"
   ]
  },
  {
   "cell_type": "code",
   "execution_count": null,
   "id": "6074ccfb-b34a-46b9-aa4b-d1539254d6ea",
   "metadata": {},
   "outputs": [],
   "source": []
  }
 ],
 "metadata": {
  "kernelspec": {
   "display_name": "Python 3 (ipykernel)",
   "language": "python",
   "name": "python3"
  },
  "language_info": {
   "codemirror_mode": {
    "name": "ipython",
    "version": 3
   },
   "file_extension": ".py",
   "mimetype": "text/x-python",
   "name": "python",
   "nbconvert_exporter": "python",
   "pygments_lexer": "ipython3",
   "version": "3.11.4"
  }
 },
 "nbformat": 4,
 "nbformat_minor": 5
}
