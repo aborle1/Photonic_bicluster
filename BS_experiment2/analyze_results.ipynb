{
 "cells": [
  {
   "cell_type": "code",
   "execution_count": 1,
   "id": "72659d56-3f27-4929-991a-019851027350",
   "metadata": {},
   "outputs": [],
   "source": [
    "#Jupyter notebook for analyzing the results of experiment 2"
   ]
  },
  {
   "cell_type": "code",
   "execution_count": 1,
   "id": "65f22f35-875c-4c3e-9f45-205d29c8e141",
   "metadata": {},
   "outputs": [],
   "source": [
    "import numpy as np"
   ]
  },
  {
   "cell_type": "code",
   "execution_count": 2,
   "id": "22446757-bba2-4a10-8ce3-4591be4919aa",
   "metadata": {},
   "outputs": [],
   "source": [
    "#Get the information about the problem\n",
    "fp = np.load('./problems/bs_exp2_part1.npz')\n",
    "dataset = fp['arr_0']\n",
    "shuffle_row_idx = fp['arr_1']\n",
    "shuffle_col_idx = fp['arr_2']\n",
    "bicluster_row_idx = fp['arr_3']\n",
    "bicluster_col_idx = fp['arr_4']"
   ]
  },
  {
   "cell_type": "code",
   "execution_count": 3,
   "id": "8cc18c2d-5bbd-4f50-867f-7a0bc63ab2f2",
   "metadata": {},
   "outputs": [],
   "source": [
    "row_idx =  np.sort(bicluster_row_idx[:,0])\n",
    "col_idx =  np.sort(bicluster_col_idx[:,0])"
   ]
  },
  {
   "cell_type": "code",
   "execution_count": 27,
   "id": "db24fa52-9e1b-4b41-922f-7b35581fc589",
   "metadata": {},
   "outputs": [
    {
     "name": "stdout",
     "output_type": "stream",
     "text": [
      "row_idx:  [2 3 4 6 7 8]\n",
      "col_idx:  [ 2  3  6  8 10 11]\n"
     ]
    }
   ],
   "source": [
    "print(\"row_idx: \",row_idx)\n",
    "print(\"col_idx: \",col_idx)"
   ]
  },
  {
   "cell_type": "code",
   "execution_count": 4,
   "id": "b6b42032-e358-42a9-bc9c-db5c18db7414",
   "metadata": {},
   "outputs": [
    {
     "name": "stdout",
     "output_type": "stream",
     "text": [
      " For p=20 : 0.17\n",
      " For p=50 : 0.39\n",
      " For p=100 : 0.85\n",
      " For p=150 : 0.95\n",
      " For p=200 : 0.99\n"
     ]
    }
   ],
   "source": [
    "success_biclusters_prob = {} #dictionary that hold  \n",
    "for p in [20,50,100,150,200]:\n",
    "    success_biclusters_prob[p] = 0.0\n",
    "    for i in range(0,100):\n",
    "        filepath = './results/res_p'+ str(p) + '_' + str(i) + '.npz'\n",
    "        f = np.load(filepath,allow_pickle=True)\n",
    "        #print(f['arr_2'])\n",
    "        isequal = np.array_equal(row_idx,f['arr_0']) and np.array_equal(col_idx,f['arr_1'])\n",
    "        if isequal == True:\n",
    "            success_biclusters_prob[p] += 1.0\n",
    "    \n",
    "    success_biclusters_prob[p] /= 100\n",
    "    print(f' For p={p} : {success_biclusters_prob[p]}')"
   ]
  },
  {
   "cell_type": "code",
   "execution_count": 21,
   "id": "a497df3a-66c1-4dcf-9246-f8ba6d9b7e51",
   "metadata": {},
   "outputs": [
    {
     "data": {
      "text/plain": [
       "0.05"
      ]
     },
     "execution_count": 21,
     "metadata": {},
     "output_type": "execute_result"
    }
   ],
   "source": [
    "a  = 5\n",
    "a /= 100\n",
    "a"
   ]
  },
  {
   "cell_type": "code",
   "execution_count": null,
   "id": "c50e4f1a-65ca-40a2-ad87-2e1ca9d7abeb",
   "metadata": {},
   "outputs": [],
   "source": []
  }
 ],
 "metadata": {
  "kernelspec": {
   "display_name": "research_2023",
   "language": "python",
   "name": "research_2023"
  },
  "language_info": {
   "codemirror_mode": {
    "name": "ipython",
    "version": 3
   },
   "file_extension": ".py",
   "mimetype": "text/x-python",
   "name": "python",
   "nbconvert_exporter": "python",
   "pygments_lexer": "ipython3",
   "version": "3.11.4"
  }
 },
 "nbformat": 4,
 "nbformat_minor": 5
}
