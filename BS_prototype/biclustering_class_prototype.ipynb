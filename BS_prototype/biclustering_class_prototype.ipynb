{
 "cells": [
  {
   "cell_type": "code",
   "execution_count": null,
   "id": "0cd52e83-dcd6-4ccc-af46-1360fef2ff38",
   "metadata": {},
   "outputs": [],
   "source": [
    "#This notebook is for tinkering around and refining the class BS_cluster\n",
    "#Refined versions make there way over to the bs_bicluster_class.py file\n"
   ]
  },
  {
   "cell_type": "code",
   "execution_count": 13,
   "id": "6ba8b218-e81b-40ba-b872-a80c15472eee",
   "metadata": {},
   "outputs": [],
   "source": [
    "#NOTE : CURRENTLY CANNOT HANDLE rectangular datasets or biclusters\n",
    "import numpy as np\n",
    "import networkx as nx\n",
    "from scipy.linalg import sqrtm\n",
    "import json\n",
    "\n",
    "import perceval as pcvl\n",
    "from perceval.algorithm import Sampler\n",
    "\n",
    "class BS_bicluster:\n",
    "    def __init__(self,dataset:np.ndarray,token_file=None):\n",
    "        self.dataset = dataset\n",
    "        #Get rows and columns of the original dataset\n",
    "        self.original_rows = dataset.shape[0]\n",
    "        self.original_cols = dataset.shape[1]\n",
    "        \n",
    "        \n",
    "        #see if dataset (a matrix) is rectangle or square\n",
    "        if self.dataset.shape[0] == self.dataset.shape[1]:\n",
    "            issquare = True\n",
    "        else:\n",
    "            issquare = False\n",
    "            self.make_data_square() #Basically, pad rows or columns (whichever is less) of 1s\n",
    "        \n",
    "        #Prepare the unitary matrix that nests the dataset\n",
    "        self.U, self.c = self.to_unitary(dataset) #U is the unitary matrix where the first original_rows and original_cols is the original dataset (scaled by 1/c) \n",
    "        \n",
    "        if token_file != None: #Meaning that backend will be remote\n",
    "            self.token = open(token_file,'r').read()\n",
    "            self.remote_backend = True\n",
    "        else:\n",
    "            self.remote_backend = False\n",
    "            \n",
    "        \n",
    "        \n",
    "    def prepare_backend(self,backend_name='CliffordClifford2017'):\n",
    "        if self.remote_backend ==  True:\n",
    "            self.QPU = pcvl.RemoteProcessor(backend_name,self.token)\n",
    "        elif self.remote_backend == False:\n",
    "            self.QPU = pcvl.Processor(backend_name)\n",
    "        \n",
    "    def prep_input(self,col_idx:list):\n",
    "        \n",
    "        #Use col_idx to prepare inputstate_raw (i.e inputstate as a list)\n",
    "        inputstate_raw = [0 for i in range(self.U.shape[1])]\n",
    "        \n",
    "        for item in col_idx:\n",
    "            inputstate_raw[item] = 1 #1 photon for the index position inside col_idx\n",
    "        \n",
    "        inputstate = pcvl.BasicState(inputstate_raw)\n",
    "        return inputstate\n",
    "        \n",
    "\n",
    "    \n",
    "    def boson_sampling(self,col_idx:list,shots): #prepare photonic circuit\n",
    "        #Building block for our circuit\n",
    "        self.mzi = (pcvl.BS() // (0, pcvl.PS(phi=pcvl.Parameter(\"φ_a\")))\n",
    "       // pcvl.BS() // (1, pcvl.PS(phi=pcvl.Parameter(\"φ_b\"))))\n",
    "        \n",
    "        #Create circuit from U\n",
    "        boson_circuit = pcvl.Circuit.decomposition(self.U, self.mzi,\n",
    "                                               phase_shifter_fn=pcvl.PS,\n",
    "                                               shape=\"triangle\",allow_error=True)\n",
    "        \n",
    "        #Preparing input_state\n",
    "        inputstate = self.prep_input(col_idx)\n",
    "        print(\"Input state is: \",inputstate)\n",
    "        #Now do the boson sampling for the input state\n",
    "        #set circuit and inputs\n",
    "        self.QPU.set_circuit(boson_circuit)\n",
    "        self.QPU.with_input(inputstate)\n",
    "        #create a sampler object\n",
    "        sampler = Sampler(self.QPU)\n",
    "        #finally, let us do the boson sampling\n",
    "\n",
    "        self.raw_samples = sampler.samples(shots)\n",
    "        return self.raw_samples\n",
    "        \n",
    "    \n",
    "    \n",
    "    \n",
    "    def make_data_square(self):\n",
    "        pass #To be expanded upon later\n",
    "    \n",
    "    \n",
    "    def to_unitary(self,A): #Code from the people at quandela. Paper: arXiv:2301.09594\n",
    "        ''' Input: graph A either as:\n",
    "                                    an adjacency matrix of size mxm\n",
    "                                    a networkX graph with m nodes\n",
    "            Output: unitary with size 2mx2m, largest singular value\n",
    "        '''\n",
    "    \n",
    "        if type(A) == type(nx.Graph()):\n",
    "            A = nx.convert_matrix.to_numpy_matrix(A)\n",
    "        P1, D, V = np.linalg.svd(A)\n",
    "    \n",
    "        c = np.max(D)\n",
    "        # if it is not complex, then np.sqrt will output nan in complex values\n",
    "        An = np.matrix(A/c, dtype=complex)\n",
    "        P = An\n",
    "        m = len(An)\n",
    "        Q = sqrtm(np.identity(m)-np.dot(An, An.conj().T))\n",
    "        R = sqrtm(np.identity(m)-np.dot(An.conj().T, An))\n",
    "        S = -An.conj().T\n",
    "        Ubmat = np.bmat([[P, Q], [R, S]])\n",
    "        return (np.copy(Ubmat), c)\n",
    "\n",
    "    def get_probability(self,outputstate:list):\n",
    "        #Only to be done AFTER boson sampling\n",
    "        outputstate_str = str(pcvl.BasicState(outputstate)) #outputstate\n",
    "        total_count = len(self.raw_samples['results'])\n",
    "\n",
    "        output_count = 0\n",
    "        \n",
    "        for item in self.raw_samples['results']:\n",
    "            if outputstate_str == str(item):\n",
    "                output_count += 1\n",
    "\n",
    "        return output_count/total_count\n",
    "        \n",
    "    def save_samples(self,filepath):\n",
    "        #Only to be done AFTER boson sampling\n",
    "        raw_samples2 = self.raw_samples.copy()\n",
    "        temp_list1 = raw_samples2['results']\n",
    "        temp_list2 = []\n",
    "\n",
    "        #going through temp_list1, converting each item to a string and storing it in temp_list2\n",
    "        for item in temp_list1:\n",
    "            temp_list2.append(str(item))\n",
    "\n",
    "        #change the value for results\n",
    "        raw_samples2['results'] = temp_list2\n",
    "\n",
    "        #save raw_samples2 to filepath\n",
    "        with open(filepath, 'w') as f:\n",
    "            json.dump(raw_samples2, f)\n",
    "        \n"
   ]
  },
  {
   "cell_type": "code",
   "execution_count": 14,
   "id": "cfcce32f-9021-47d7-a196-44e7ed389b36",
   "metadata": {},
   "outputs": [
    {
     "name": "stdout",
     "output_type": "stream",
     "text": [
      "Input state is:  |1,0,0,1>\n"
     ]
    }
   ],
   "source": [
    "A = np.array([[5,6],[7,8]])\n",
    "\n",
    "bs_cluster = BS_bicluster(A)\n",
    "bs_cluster.prepare_backend()\n",
    "raw_samples = bs_cluster.boson_sampling([0,3],99999)"
   ]
  },
  {
   "cell_type": "code",
   "execution_count": 19,
   "id": "d215060b-ccd2-439b-8e1b-1dafcaddcfff",
   "metadata": {},
   "outputs": [],
   "source": [
    "bs_cluster.save_samples('data.json')"
   ]
  },
  {
   "cell_type": "code",
   "execution_count": 20,
   "id": "f60821fa-562e-4023-a0e3-ccee3b61a028",
   "metadata": {},
   "outputs": [],
   "source": [
    " with open('data.json', 'r') as f:\n",
    "    data = json.load(f)"
   ]
  },
  {
   "cell_type": "code",
   "execution_count": 30,
   "id": "ee823687-3c13-49ea-bb1b-c21173e774c8",
   "metadata": {},
   "outputs": [
    {
     "data": {
      "text/plain": [
       "0.013840138401384015"
      ]
     },
     "execution_count": 30,
     "metadata": {},
     "output_type": "execute_result"
    }
   ],
   "source": [
    " bs_cluster.get_probability([1,1,0,0])"
   ]
  },
  {
   "cell_type": "code",
   "execution_count": null,
   "id": "20e35d2d-cb5f-4dc3-a1f4-a45285593780",
   "metadata": {},
   "outputs": [],
   "source": []
  }
 ],
 "metadata": {
  "kernelspec": {
   "display_name": "research_2023",
   "language": "python",
   "name": "research_2023"
  },
  "language_info": {
   "codemirror_mode": {
    "name": "ipython",
    "version": 3
   },
   "file_extension": ".py",
   "mimetype": "text/x-python",
   "name": "python",
   "nbconvert_exporter": "python",
   "pygments_lexer": "ipython3",
   "version": "3.11.4"
  }
 },
 "nbformat": 4,
 "nbformat_minor": 5
}
