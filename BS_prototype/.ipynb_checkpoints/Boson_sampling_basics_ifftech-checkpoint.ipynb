{
 "cells": [
  {
   "cell_type": "code",
   "execution_count": 3,
   "id": "ab380324-a7e1-427d-b796-6828f493812a",
   "metadata": {},
   "outputs": [],
   "source": [
    "#Here photon is the boson\n",
    "#This notebook useses the ifftech bosonsampling library to do the task of boson sampling\n",
    "#Note : You may need to install the library from github instead of PyPi : https://github.com/IffTech/Boson-Sampling"
   ]
  },
  {
   "cell_type": "code",
   "execution_count": 4,
   "id": "6cf3a89a-3188-44fa-8433-b8427d836bf4",
   "metadata": {},
   "outputs": [],
   "source": [
    "import bosonsampling as bs\n",
    "import numpy as np\n",
    "import networkx as nx\n",
    "from scipy.linalg import sqrtm\n",
    "from strawberryfields.utils import random_interferometer"
   ]
  },
  {
   "cell_type": "code",
   "execution_count": 5,
   "id": "d6758640-7768-40bd-a5bd-75a4a4d8cc2e",
   "metadata": {},
   "outputs": [],
   "source": [
    "#This function embedded matrix A (which should be a square matrix) as the top left matrix inside a bigger matrix that is Unitary in nature\n",
    "def to_unitary(A):\n",
    "    ''' Input: graph A either as:\n",
    "                                 an adjacency matrix of size mxm\n",
    "                                 a networkX graph with m nodes\n",
    "        Output: unitary with size 2mx2m\n",
    "    '''\n",
    "\n",
    "    if type(A) == type(nx.Graph()):\n",
    "        A = nx.convert_matrix.to_numpy_matrix(A)\n",
    "    P1, D, V = np.linalg.svd(A)\n",
    "\n",
    "    c = np.max(D)\n",
    "    # if it is not complex, then np.sqrt will output nan in complex values\n",
    "    An = np.matrix(A/c, dtype=complex)\n",
    "    P = An\n",
    "    m = len(An)\n",
    "    Q = sqrtm(np.identity(m)-np.dot(An, An.conj().T))\n",
    "    R = sqrtm(np.identity(m)-np.dot(An.conj().T, An))\n",
    "    S = -An.conj().T\n",
    "    Ubmat = np.bmat([[P, Q], [R, S]])\n",
    "    return (np.copy(Ubmat), c)\n"
   ]
  },
  {
   "cell_type": "code",
   "execution_count": 6,
   "id": "c72edc50-09d2-4a18-8ff1-815c7fa03b5f",
   "metadata": {},
   "outputs": [],
   "source": [
    "A = np.array([[5,6],[7,8]]) #Just an example\n",
    "U,_ = to_unitary(A) #We will be dealing with U now on"
   ]
  },
  {
   "cell_type": "code",
   "execution_count": 7,
   "id": "36b267f2-2843-4a45-b580-730134ac395f",
   "metadata": {},
   "outputs": [
    {
     "data": {
      "text/plain": [
       "(4, 4)"
      ]
     },
     "execution_count": 7,
     "metadata": {},
     "output_type": "execute_result"
    }
   ],
   "source": [
    "U.shape #Checking the dimensions of U. "
   ]
  },
  {
   "cell_type": "code",
   "execution_count": 8,
   "id": "58ff3446-d7c0-4a87-98ad-9c50af8ea95e",
   "metadata": {},
   "outputs": [],
   "source": [
    "photons_in = [1,1,0,0] #Which modes do the photons start in? Decides the columns of the unitary matrix (eg 0th and 1st columns)\n",
    "photons_out =[1,1,0,0] #Which modes do the photons get out from? Decides the rows of the unitary matrix\n",
    "output_probability = bs.output_probability(photons_in, photons_out, U) #get the output probability for this"
   ]
  },
  {
   "cell_type": "code",
   "execution_count": 9,
   "id": "e11f5cb3-c61c-42e5-9252-59f8747ed8b8",
   "metadata": {},
   "outputs": [
    {
     "data": {
      "text/plain": [
       "0.22214880789712962"
      ]
     },
     "execution_count": 9,
     "metadata": {},
     "output_type": "execute_result"
    }
   ],
   "source": [
    "output_probability"
   ]
  },
  {
   "cell_type": "code",
   "execution_count": 10,
   "id": "3eb27faa-a1ea-4ff6-b953-cdd3d1ad3b9c",
   "metadata": {},
   "outputs": [
    {
     "name": "stdout",
     "output_type": "stream",
     "text": [
      "Probability of photon output [0, 0, 1, 1] : 0.23889175207560331\n",
      "Probability of photon output [0, 1, 0, 1] : 0.005499224416740851\n",
      "Probability of photon output [0, 1, 1, 0] : 0.007431988824727365\n",
      "Probability of photon output [1, 0, 0, 1] : 0.004054815146259606\n",
      "Probability of photon output [1, 0, 1, 0] : 0.005479925202356754\n",
      "Probability of photon output [1, 1, 0, 0] : 0.22214880789712962\n",
      "Probability of photon output [0, 0, 0, 2] : 0.08838280740744871\n",
      "Probability of photon output [0, 0, 2, 0] : 0.16142638733645176\n",
      "Probability of photon output [0, 2, 0, 0] : 0.20721554478447304\n",
      "Probability of photon output [2, 0, 0, 0] : 0.059468746908809225\n"
     ]
    }
   ],
   "source": [
    "#Starting with photons_in, get the probability for every possible configurations\n",
    "for photon_out_configuration in bs.gen_output_configurations(sum(photons_in), len(photons_in)):\n",
    "\n",
    "    output_probability = bs.output_probability(photons_in, photon_out_configuration, U)\n",
    "\n",
    "    print(\"Probability of photon output {0} : {1}\".format(photon_out_configuration, output_probability))"
   ]
  },
  {
   "cell_type": "markdown",
   "id": "d35b6ee4-9379-4a41-9fdb-86036b9a515a",
   "metadata": {},
   "source": [
    "## Now we take a look at the submatrices (based on input and output photons)"
   ]
  },
  {
   "cell_type": "code",
   "execution_count": 19,
   "id": "cfd43f3a-a9ca-4eb2-8fc0-02bff31b9ae9",
   "metadata": {},
   "outputs": [
    {
     "data": {
      "text/plain": [
       "array([[ 0.37907407,  0.45488888,  0.64942188, -0.47710605],\n",
       "       [ 0.53070369,  0.60651851, -0.47710605,  0.35051206],\n",
       "       [ 0.57469442, -0.49435085, -0.37907407, -0.53070369],\n",
       "       [-0.49435085,  0.42523952, -0.45488888, -0.60651851]])"
      ]
     },
     "execution_count": 19,
     "metadata": {},
     "output_type": "execute_result"
    }
   ],
   "source": [
    "U = U[0:4,0:4].astype(float) \n",
    "U"
   ]
  },
  {
   "cell_type": "code",
   "execution_count": 22,
   "id": "5e7e37a1-6aea-40da-be10-9ff7280cf305",
   "metadata": {},
   "outputs": [
    {
     "name": "stderr",
     "output_type": "stream",
     "text": [
      "C:\\Users\\User\\AppData\\Local\\Temp\\ipykernel_4348\\1884882483.py:1: ComplexWarning: Casting complex values to real discards the imaginary part\n"
     ]
    },
    {
     "data": {
      "text/plain": [
       "array([[0.37907407, 0.45488888],\n",
       "       [0.53070369, 0.60651851]])"
      ]
     },
     "execution_count": 22,
     "metadata": {},
     "output_type": "execute_result"
    }
   ],
   "source": [
    "bs.gen_submatrix(photons_in, photons_out, U).astype(float) \n",
    "#photons_in selects the columns\n",
    "#photon_out selects the rows"
   ]
  },
  {
   "cell_type": "markdown",
   "id": "e10e4705-2077-4cac-bd5b-86eaa1aa929d",
   "metadata": {},
   "source": [
    "### Let us analyze the permanent of this submatrix and the probability"
   ]
  },
  {
   "cell_type": "code",
   "execution_count": 14,
   "id": "aa66b027-a77f-43cb-b662-a04ed0737f17",
   "metadata": {},
   "outputs": [],
   "source": [
    "#Import\n",
    "from thewalrus import perm"
   ]
  },
  {
   "cell_type": "code",
   "execution_count": 23,
   "id": "f008ea0c-ed17-4dd7-95ac-2a853ee4d9ba",
   "metadata": {},
   "outputs": [
    {
     "name": "stdout",
     "output_type": "stream",
     "text": [
      "[[0.37907407 0.45488888]\n",
      " [0.53070369 0.60651851]]\n"
     ]
    },
    {
     "name": "stderr",
     "output_type": "stream",
     "text": [
      "C:\\Users\\User\\AppData\\Local\\Temp\\ipykernel_4348\\562189665.py:1: ComplexWarning: Casting complex values to real discards the imaginary part\n"
     ]
    }
   ],
   "source": [
    "subU = bs.gen_submatrix(photons_in, photons_out, U).astype(float)\n",
    "print(subU)"
   ]
  },
  {
   "cell_type": "code",
   "execution_count": 25,
   "id": "0c9f4c61-14b8-4340-b0ff-e83178e34ce9",
   "metadata": {},
   "outputs": [
    {
     "data": {
      "text/plain": [
       "0.22214880789712962"
      ]
     },
     "execution_count": 25,
     "metadata": {},
     "output_type": "execute_result"
    }
   ],
   "source": [
    "#the (absolute) of the permanent square divide by the product of the factorial of photon count per mode... is the probability\n",
    "(perm(subU)**2)/(1*1)"
   ]
  },
  {
   "cell_type": "code",
   "execution_count": 40,
   "id": "ae4da374-0b48-4168-90ad-ca4c68fe7551",
   "metadata": {},
   "outputs": [],
   "source": [
    "A = np.random.randint(1,20,(4,4))"
   ]
  },
  {
   "cell_type": "code",
   "execution_count": 41,
   "id": "063c59f0-ec67-4cc6-b426-3ded8b478d5d",
   "metadata": {},
   "outputs": [],
   "source": [
    "U, S, Vh = np.linalg.svd(A)"
   ]
  },
  {
   "cell_type": "code",
   "execution_count": 45,
   "id": "e8986df3-3a2e-4b0e-af70-b78f40ce7300",
   "metadata": {},
   "outputs": [],
   "source": [
    "newA = (1/S.max())*A"
   ]
  },
  {
   "cell_type": "code",
   "execution_count": 46,
   "id": "e001895b-6829-430b-9d2b-4812c47d5461",
   "metadata": {},
   "outputs": [
    {
     "data": {
      "text/plain": [
       "array([[0.04364632, 0.32734738, 0.26187791, 0.39281686],\n",
       "       [0.34917054, 0.06546948, 0.39281686, 0.28370106],\n",
       "       [0.08729264, 0.24005475, 0.3709937 , 0.26187791],\n",
       "       [0.30552422, 0.19640843, 0.04364632, 0.28370106]])"
      ]
     },
     "execution_count": 46,
     "metadata": {},
     "output_type": "execute_result"
    }
   ],
   "source": [
    "newA"
   ]
  }
 ],
 "metadata": {
  "kernelspec": {
   "display_name": "research_2023",
   "language": "python",
   "name": "research_2023"
  },
  "language_info": {
   "codemirror_mode": {
    "name": "ipython",
    "version": 3
   },
   "file_extension": ".py",
   "mimetype": "text/x-python",
   "name": "python",
   "nbconvert_exporter": "python",
   "pygments_lexer": "ipython3",
   "version": "3.11.4"
  }
 },
 "nbformat": 4,
 "nbformat_minor": 5
}
