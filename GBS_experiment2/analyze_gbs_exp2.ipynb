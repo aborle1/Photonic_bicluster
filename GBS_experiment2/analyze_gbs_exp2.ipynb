{
 "cells": [
  {
   "cell_type": "code",
   "execution_count": 3,
   "id": "01afae6f-00c3-4f7d-9925-33af30eb4e2f",
   "metadata": {},
   "outputs": [],
   "source": [
    "import numpy as np\n",
    "from statistics import mode"
   ]
  },
  {
   "cell_type": "code",
   "execution_count": 4,
   "id": "a4aacc95-0780-4b21-a9ca-872a62566ffe",
   "metadata": {},
   "outputs": [],
   "source": [
    "#Load the problem\n",
    "fp = np.load('./problems/gbs_exp2_part1.npz')"
   ]
  },
  {
   "cell_type": "code",
   "execution_count": 5,
   "id": "c47dc067-627b-4d4a-849e-ceda17a2956c",
   "metadata": {},
   "outputs": [],
   "source": [
    "dataset = fp['arr_0']\n",
    "shuffle_row_idx = fp['arr_1']\n",
    "shuffle_col_idx = fp['arr_2']\n",
    "biclusters_row_idx = fp['arr_3']\n",
    "biclusters_col_idx = fp['arr_4']"
   ]
  },
  {
   "cell_type": "code",
   "execution_count": 6,
   "id": "0c075df5-bbf4-46e6-9542-351661107063",
   "metadata": {},
   "outputs": [],
   "source": [
    "#Let us figure out the bitstrings for each of the clusters\n",
    "#Functions for that\n",
    "def list_to_str(l):\n",
    "    \n",
    "    temp_str = str(l)\n",
    "    temp_str = temp_str.replace(\"[\",\"\")\n",
    "    temp_str = temp_str.replace(\"]\",\"\")\n",
    "    temp_str = temp_str.replace(\",\",\"\")\n",
    "    temp_str = temp_str.replace(\" \",\"\")\n",
    "    return temp_str\n",
    "\n",
    "def rowcol_2_bitstr(bic_row,bic_col,data_len):\n",
    "    bicluster_list = [0 for i in range(2*data_len)]\n",
    "    \n",
    "    #rows\n",
    "    for item in bic_row:\n",
    "        bicluster_list[item] = 1\n",
    "\n",
    "    #columns\n",
    "    for item in bic_col:\n",
    "        bicluster_list[item + data_len] = 1\n",
    "    \n",
    "    return list_to_str(bicluster_list)"
   ]
  },
  {
   "cell_type": "code",
   "execution_count": 7,
   "id": "15d9d2e0-479e-47b9-9417-b859f8f619d3",
   "metadata": {},
   "outputs": [
    {
     "name": "stdout",
     "output_type": "stream",
     "text": [
      "Our desired biclusters:\n",
      "001110100000010000100011\n",
      "000001010110100110001000\n",
      "110000001001001001010100\n"
     ]
    }
   ],
   "source": [
    "#Create bicluster_string\n",
    "bicluster_bitstrings = []\n",
    "\n",
    "print(\"Our desired biclusters:\")\n",
    "for i in range(0,3):\n",
    "    bicluster_bitstrings.append( rowcol_2_bitstr(np.sort(biclusters_row_idx[i][:,0]),np.sort(biclusters_col_idx[i][:,0]),dataset.shape[0]))\n",
    "    print(bicluster_bitstrings[i])\n"
   ]
  },
  {
   "cell_type": "code",
   "execution_count": 8,
   "id": "41802afa-52a8-4f34-bbe3-4ce08ce795d1",
   "metadata": {},
   "outputs": [
    {
     "name": "stdout",
     "output_type": "stream",
     "text": [
      "-------i= -------\n",
      "j= 0\n",
      "count: 0\n",
      "j= 1\n",
      "count: 0\n",
      "j= 2\n",
      "count: 2\n",
      "-------i= -------\n",
      "j= 0\n",
      "count: 0\n",
      "j= 1\n",
      "count: 1\n",
      "j= 2\n",
      "count: 0\n",
      "-------i= -------\n",
      "j= 0\n",
      "count: 0\n",
      "j= 1\n",
      "count: 1\n",
      "j= 2\n",
      "count: 1\n"
     ]
    }
   ],
   "source": [
    "photon = 48\n",
    "shots = 1000\n",
    "for i in range(0,3):\n",
    "    print(\"-------i=\",\"-------\")\n",
    "    filepath = './results/res_gbs_exp2_photon'+str(photon)+'_shots'+str(shots)+'_'+str(i)+'.npy'\n",
    "    raw_samples = np.load(filepath)\n",
    "    string_samples = []\n",
    "    for list in raw_samples: \n",
    "        string_samples.append(list_to_str(list))\n",
    "    for j in range(0,3):\n",
    "        print(\"j=\",j)\n",
    "        print(\"count:\",string_samples.count(bicluster_bitstrings[j]))"
   ]
  },
  {
   "cell_type": "code",
   "execution_count": 9,
   "id": "7c96c115-71f2-44a6-93ed-06c770270e2e",
   "metadata": {},
   "outputs": [],
   "source": [
    "#For binary datasets"
   ]
  },
  {
   "cell_type": "code",
   "execution_count": 10,
   "id": "c5bc14b6-3fd5-40b5-85c8-8aa5d7dfa313",
   "metadata": {},
   "outputs": [
    {
     "name": "stdout",
     "output_type": "stream",
     "text": [
      "-------i= -------\n",
      "j= 0\n",
      "count: 2\n",
      "j= 1\n",
      "count: 5\n",
      "j= 2\n",
      "count: 1\n",
      "-------i= -------\n",
      "j= 0\n",
      "count: 4\n",
      "j= 1\n",
      "count: 4\n",
      "j= 2\n",
      "count: 2\n",
      "-------i= -------\n",
      "j= 0\n",
      "count: 3\n",
      "j= 1\n",
      "count: 2\n",
      "j= 2\n",
      "count: 2\n"
     ]
    }
   ],
   "source": [
    "photon = 48\n",
    "shots = 1000\n",
    "for i in range(0,3):\n",
    "    print(\"-------i=\",\"-------\")\n",
    "    filepath = './results/resbin_gbs_exp2_photon'+str(photon)+'_shots'+str(shots)+'_'+str(i)+'.npy'\n",
    "    raw_samples = np.load(filepath)\n",
    "    string_samples = []\n",
    "    for list in raw_samples: \n",
    "        string_samples.append(list_to_str(list))\n",
    "    for j in range(0,3):\n",
    "        print(\"j=\",j)\n",
    "        print(\"count:\",string_samples.count(bicluster_bitstrings[j]))"
   ]
  },
  {
   "cell_type": "code",
   "execution_count": 11,
   "id": "75334e11-374a-4ac8-a1ea-f20f803f4f30",
   "metadata": {},
   "outputs": [
    {
     "name": "stdout",
     "output_type": "stream",
     "text": [
      "-------i= -------\n",
      "j= 0\n",
      "count: 41\n",
      "j= 1\n",
      "count: 34\n",
      "j= 2\n",
      "count: 24\n"
     ]
    }
   ],
   "source": [
    "#10k shots : binary\n",
    "photon = 48\n",
    "shots = 10000\n",
    "print(\"-------i=\",\"-------\")\n",
    "filepath = './results/resbin_gbs_exp2_photon'+str(photon)+'_shots'+str(shots)+'.npy'\n",
    "raw_samples = np.load(filepath)\n",
    "string_samples = []\n",
    "for list in raw_samples: \n",
    "    string_samples.append(list_to_str(list))\n",
    "for j in range(0,3):\n",
    "    print(\"j=\",j)\n",
    "    print(\"count:\",string_samples.count(bicluster_bitstrings[j]))"
   ]
  },
  {
   "cell_type": "code",
   "execution_count": 12,
   "id": "a6949a99-d8c1-46f2-be1f-77a5f3e3debb",
   "metadata": {},
   "outputs": [
    {
     "name": "stdout",
     "output_type": "stream",
     "text": [
      "-------i= -------\n",
      "j= 0\n",
      "count: 3\n",
      "j= 1\n",
      "count: 5\n",
      "j= 2\n",
      "count: 6\n"
     ]
    }
   ],
   "source": [
    "#10k shots : real-values\n",
    "photon = 48\n",
    "shots = 10000\n",
    "print(\"-------i=\",\"-------\")\n",
    "filepath = './results/res_gbs_exp2_photon'+str(photon)+'_shots'+str(shots)+'.npy'\n",
    "raw_samples = np.load(filepath)\n",
    "string_samples = []\n",
    "for list in raw_samples: \n",
    "    string_samples.append(list_to_str(list))\n",
    "for j in range(0,3):\n",
    "    print(\"j=\",j)\n",
    "    print(\"count:\",string_samples.count(bicluster_bitstrings[j]))"
   ]
  },
  {
   "cell_type": "code",
   "execution_count": 13,
   "id": "19414f58-73c7-46c7-bb41-1d1519f5ea86",
   "metadata": {},
   "outputs": [
    {
     "name": "stdout",
     "output_type": "stream",
     "text": [
      "-------i= -------\n",
      "j= 0\n",
      "count: 1030\n",
      "j= 1\n",
      "count: 0\n",
      "j= 2\n",
      "count: 0\n"
     ]
    }
   ],
   "source": [
    "#10k shots : real-values - part 2\n",
    "photon = 48\n",
    "shots = 10000\n",
    "print(\"-------i=\",\"-------\")\n",
    "filepath = './results/res_gbs_exp2_part2_photon'+str(photon)+'_shots'+str(shots)+'.npy'\n",
    "raw_samples = np.load(filepath)\n",
    "string_samples = []\n",
    "for list in raw_samples: \n",
    "    string_samples.append(list_to_str(list))\n",
    "for j in range(0,3):\n",
    "    print(\"j=\",j)\n",
    "    print(\"count:\",string_samples.count(bicluster_bitstrings[j]))"
   ]
  },
  {
   "cell_type": "code",
   "execution_count": 14,
   "id": "5f07b394-1ccb-4f72-8d77-5f6add2fe3c8",
   "metadata": {},
   "outputs": [
    {
     "name": "stdout",
     "output_type": "stream",
     "text": [
      "-------i= -------\n",
      "j= 0\n",
      "count: 5927\n",
      "j= 1\n",
      "count: 0\n",
      "j= 2\n",
      "count: 0\n"
     ]
    }
   ],
   "source": [
    "#10k shots : binary values - part 2\n",
    "photon = 48\n",
    "shots = 10000\n",
    "print(\"-------i=\",\"-------\")\n",
    "filepath = './results/resbin_gbs_exp2_part2_photon'+str(photon)+'_shots'+str(shots)+'.npy'\n",
    "raw_samples = np.load(filepath)\n",
    "string_samples = []\n",
    "for list in raw_samples: \n",
    "    string_samples.append(list_to_str(list))\n",
    "for j in range(0,3):\n",
    "    print(\"j=\",j)\n",
    "    print(\"count:\",string_samples.count(bicluster_bitstrings[j]))"
   ]
  },
  {
   "cell_type": "code",
   "execution_count": 15,
   "id": "ad2a807d-6cf4-4452-ae06-c3751664ab19",
   "metadata": {},
   "outputs": [
    {
     "name": "stdout",
     "output_type": "stream",
     "text": [
      "-------i= -------\n",
      "j= 0\n",
      "count: 0\n",
      "j= 1\n",
      "count: 0\n",
      "j= 2\n",
      "count: 5966\n"
     ]
    }
   ],
   "source": [
    "#10k shots : binary values - part 3\n",
    "photon = 48\n",
    "shots = 10000\n",
    "print(\"-------i=\",\"-------\")\n",
    "filepath = './results/resbin_gbs_exp2_part3_photon'+str(photon)+'_shots'+str(shots)+'.npy'\n",
    "raw_samples = np.load(filepath)\n",
    "string_samples = []\n",
    "for list in raw_samples: \n",
    "    string_samples.append(list_to_str(list))\n",
    "for j in range(0,3):\n",
    "    print(\"j=\",j)\n",
    "    print(\"count:\",string_samples.count(bicluster_bitstrings[j]))"
   ]
  },
  {
   "cell_type": "code",
   "execution_count": null,
   "id": "0b1f9aa5-3dac-42ea-91a3-31e20e8390d7",
   "metadata": {},
   "outputs": [],
   "source": []
  }
 ],
 "metadata": {
  "kernelspec": {
   "display_name": "research_2023",
   "language": "python",
   "name": "research_2023"
  },
  "language_info": {
   "codemirror_mode": {
    "name": "ipython",
    "version": 3
   },
   "file_extension": ".py",
   "mimetype": "text/x-python",
   "name": "python",
   "nbconvert_exporter": "python",
   "pygments_lexer": "ipython3",
   "version": "3.11.4"
  }
 },
 "nbformat": 4,
 "nbformat_minor": 5
}
