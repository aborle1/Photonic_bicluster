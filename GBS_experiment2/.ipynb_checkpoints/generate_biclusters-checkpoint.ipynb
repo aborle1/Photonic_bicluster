{
 "cells": [
  {
   "cell_type": "code",
   "execution_count": 1,
   "id": "9c4ca2cf-7424-49f3-8aa3-e5d4f7494740",
   "metadata": {},
   "outputs": [],
   "source": [
    "import numpy as np"
   ]
  },
  {
   "cell_type": "code",
   "execution_count": 2,
   "id": "84332b2c-af74-4fb1-acfd-18698476713d",
   "metadata": {},
   "outputs": [],
   "source": [
    "#Gaussian Boson Sampling\n",
    "#GBS Experiment 2\n",
    "#Dataset size is 12 x 12\n",
    "# 3 biclusters of size 3 x 3 each "
   ]
  },
  {
   "cell_type": "code",
   "execution_count": 3,
   "id": "eac43e78-d1b7-47f6-b110-1a9bb1abc821",
   "metadata": {},
   "outputs": [],
   "source": [
    "#Seeding for reproducibility\n",
    "np.random.seed(4)\n",
    "\n",
    "#Our biclusters (values are one of these 0.9,0.8,0.7)\n",
    "#First init to zero\n",
    "biclusters = np.zeros([3,4,4]) # 3 biclusters each of size 3 x3\n",
    "\n",
    "\n",
    "for i in range(0,3):\n",
    "    biclusters[i] = np.random.choice([0.9,0.8,0.7], [4,4], replace=True) # a 4 x 4 bicluster"
   ]
  },
  {
   "cell_type": "code",
   "execution_count": 4,
   "id": "9f7d8a5d-2b11-4193-8aff-e78afe10371b",
   "metadata": {},
   "outputs": [
    {
     "data": {
      "text/plain": [
       "array([[[0.7, 0.7, 0.8, 0.8],\n",
       "        [0.9, 0.9, 0.7, 0.8],\n",
       "        [0.7, 0.9, 0.8, 0.7],\n",
       "        [0.8, 0.9, 0.9, 0.7]],\n",
       "\n",
       "       [[0.9, 0.7, 0.7, 0.7],\n",
       "        [0.9, 0.9, 0.8, 0.8],\n",
       "        [0.8, 0.7, 0.8, 0.7],\n",
       "        [0.9, 0.7, 0.7, 0.8]],\n",
       "\n",
       "       [[0.7, 0.9, 0.8, 0.7],\n",
       "        [0.7, 0.9, 0.9, 0.7],\n",
       "        [0.8, 0.8, 0.9, 0.7],\n",
       "        [0.8, 0.9, 0.7, 0.7]]])"
      ]
     },
     "execution_count": 4,
     "metadata": {},
     "output_type": "execute_result"
    }
   ],
   "source": [
    "biclusters"
   ]
  },
  {
   "cell_type": "code",
   "execution_count": 5,
   "id": "bf3ae790-4cbc-4e50-8b29-dbae226344ee",
   "metadata": {},
   "outputs": [
    {
     "name": "stdout",
     "output_type": "stream",
     "text": [
      "[[0.7 0.7 0.8 0.8 0.1 0.1 0.1 0.  0.  0.2 0.2 0.2]\n",
      " [0.9 0.9 0.7 0.8 0.2 0.1 0.2 0.1 0.2 0.1 0.  0.1]\n",
      " [0.7 0.9 0.8 0.7 0.1 0.  0.2 0.1 0.2 0.  0.2 0. ]\n",
      " [0.8 0.9 0.9 0.7 0.1 0.2 0.1 0.1 0.1 0.  0.2 0.2]\n",
      " [0.  0.2 0.2 0.  0.9 0.7 0.7 0.7 0.  0.2 0.2 0.1]\n",
      " [0.1 0.  0.2 0.1 0.9 0.9 0.8 0.8 0.2 0.2 0.  0. ]\n",
      " [0.  0.  0.2 0.1 0.8 0.7 0.8 0.7 0.1 0.  0.2 0.1]\n",
      " [0.2 0.2 0.  0.  0.9 0.7 0.7 0.8 0.1 0.2 0.2 0.2]\n",
      " [0.1 0.  0.  0.  0.1 0.  0.1 0.1 0.7 0.9 0.8 0.7]\n",
      " [0.2 0.1 0.1 0.  0.1 0.2 0.  0.2 0.7 0.9 0.9 0.7]\n",
      " [0.  0.  0.  0.  0.2 0.2 0.2 0.1 0.8 0.8 0.9 0.7]\n",
      " [0.  0.  0.2 0.  0.2 0.2 0.2 0.1 0.8 0.9 0.7 0.7]]\n"
     ]
    }
   ],
   "source": [
    "#Okay now we embed them into a dataset where the rest of the values are 0,0.1 and 0.2s\n",
    "D = np.random.choice([0,0.1,0.2],[12,12],replace=True)\n",
    "\n",
    "#Embed the biclusters (this part I am hard coding it in)\n",
    "#0th\n",
    "D[0:4,0:4] = biclusters[0]\n",
    "#1st\n",
    "D[4:8,4:8] = biclusters[1]\n",
    "#2nd\n",
    "D[8:12,8:12] = biclusters[2]\n",
    "\n",
    "# looking at D\n",
    "print(D)"
   ]
  },
  {
   "cell_type": "code",
   "execution_count": 6,
   "id": "0539132f-e380-4d2d-84c4-2a92a947f16a",
   "metadata": {},
   "outputs": [],
   "source": [
    "#Okay so far so good, but we need to shuffle them up (while keeping track of where all the biclusters went!\n",
    "#both for cols and rows\n",
    "biclusters_old_idx = []\n",
    "#0th\n",
    "biclusters_old_idx.append([0,1,2,3])\n",
    "#1st\n",
    "biclusters_old_idx.append([4,5,6,7])\n",
    "#2nd\n",
    "biclusters_old_idx.append([8,9,10,11])"
   ]
  },
  {
   "cell_type": "code",
   "execution_count": 7,
   "id": "dec37ed9-d3fd-4c56-81a6-b250641b1e80",
   "metadata": {},
   "outputs": [
    {
     "name": "stdout",
     "output_type": "stream",
     "text": [
      "[ 4  0 10  6  7  8  1  9  5 11  3  2]\n",
      "[11 10  0  3  1  7  2  6  9  4  5  8]\n",
      "Bicluster #: 0\n",
      "Bicluster is in cols: [[1, 0], [6, 1], [10, 3], [11, 2]], rows: [[2, 0], [3, 3], [4, 1], [6, 2]]\n",
      "Bicluster #: 1\n",
      "Bicluster is in cols: [[0, 4], [3, 6], [4, 7], [8, 5]], rows: [[5, 7], [7, 6], [9, 4], [10, 5]]\n",
      "Bicluster #: 2\n",
      "Bicluster is in cols: [[2, 10], [5, 8], [7, 9], [9, 11]], rows: [[0, 11], [1, 10], [8, 9], [11, 8]]\n"
     ]
    }
   ],
   "source": [
    "biclusters_col_idx = []\n",
    "biclusters_row_idx = []\n",
    "\n",
    "col_idx = np.random.permutation(12)\n",
    "row_idx = np.random.permutation(12)\n",
    "\n",
    "#Locate the columns and rows of the bicluster\n",
    "#for both bicluster_row_idx and bicluster_col_idx: first column is idx position in new dataset, second is idx position in old dataset\n",
    "\n",
    "for k in range(0,3):\n",
    "    biclusters_col_idx.append([])\n",
    "    biclusters_row_idx.append([])\n",
    "    \n",
    "    for i in range(0,len(col_idx)):\n",
    "        if col_idx[i] in biclusters_old_idx[k]:\n",
    "            biclusters_col_idx[k].append([i, col_idx[i]])\n",
    "        if row_idx[i] in biclusters_old_idx[k]:\n",
    "            biclusters_row_idx[k].append([i, row_idx[i]])\n",
    "\n",
    "print(col_idx)\n",
    "print(row_idx)\n",
    "for i in range(0,3):\n",
    "    print(\"Bicluster #:\",i)\n",
    "    print(f\"Bicluster is in cols: {biclusters_col_idx[i]}, rows: {biclusters_row_idx[i]}\")"
   ]
  },
  {
   "cell_type": "code",
   "execution_count": 8,
   "id": "895cede9-d69d-4ae4-8cac-ac5b464046b4",
   "metadata": {},
   "outputs": [
    {
     "name": "stdout",
     "output_type": "stream",
     "text": [
      "[[ 1  0]\n",
      " [ 6  1]\n",
      " [11  2]\n",
      " [10  3]]\n",
      "---\n",
      "[[0 4]\n",
      " [8 5]\n",
      " [3 6]\n",
      " [4 7]]\n",
      "---\n",
      "[[ 5  8]\n",
      " [ 7  9]\n",
      " [ 2 10]\n",
      " [ 9 11]]\n",
      "---\n"
     ]
    }
   ],
   "source": [
    "#sort according to second column of  bicluster_col_idx\n",
    "for i in range(0,3):\n",
    "    biclusters_col_idx = np.array(biclusters_col_idx)\n",
    "    biclusters_col_idx[i] = biclusters_col_idx[i][biclusters_col_idx[i][:, 1].argsort()]\n",
    "    print(biclusters_col_idx[i])\n",
    "    print(\"---\")"
   ]
  },
  {
   "cell_type": "code",
   "execution_count": 9,
   "id": "e460c943-28a2-47ae-9531-181526193846",
   "metadata": {},
   "outputs": [
    {
     "name": "stdout",
     "output_type": "stream",
     "text": [
      "[[2 0]\n",
      " [4 1]\n",
      " [6 2]\n",
      " [3 3]]\n",
      "---\n",
      "[[ 9  4]\n",
      " [10  5]\n",
      " [ 7  6]\n",
      " [ 5  7]]\n",
      "---\n",
      "[[11  8]\n",
      " [ 8  9]\n",
      " [ 1 10]\n",
      " [ 0 11]]\n",
      "---\n"
     ]
    }
   ],
   "source": [
    "#sort according to second column of  biclusters_row_idx\n",
    "for i in range(0,3):\n",
    "    biclusters_row_idx = np.array(biclusters_row_idx)\n",
    "    biclusters_row_idx[i] = biclusters_row_idx[i][biclusters_row_idx[i][:, 1].argsort()]\n",
    "    print(biclusters_row_idx[i])\n",
    "    print(\"---\")"
   ]
  },
  {
   "cell_type": "code",
   "execution_count": 10,
   "id": "32b5951f-3ff1-423e-b58b-caf7d7a64f3b",
   "metadata": {},
   "outputs": [
    {
     "data": {
      "text/plain": [
       "array([[0.1, 0.7, 0.2, 0.1, 0. , 0. , 0.7, 0.2, 0.1, 0.2, 0.8, 0.8],\n",
       "       [0.2, 0.9, 0. , 0.2, 0.1, 0.2, 0.9, 0.1, 0.1, 0.1, 0.8, 0.7],\n",
       "       [0.1, 0.7, 0.2, 0.2, 0.1, 0.2, 0.9, 0. , 0. , 0. , 0.7, 0.8],\n",
       "       [0.1, 0.8, 0.2, 0.1, 0.1, 0.1, 0.9, 0. , 0.2, 0.2, 0.7, 0.9],\n",
       "       [0.9, 0. , 0.2, 0.7, 0.7, 0. , 0.2, 0.2, 0.7, 0.1, 0. , 0.2],\n",
       "       [0.9, 0.1, 0. , 0.8, 0.8, 0.2, 0. , 0.2, 0.9, 0. , 0.1, 0.2],\n",
       "       [0.8, 0. , 0.2, 0.8, 0.7, 0.1, 0. , 0. , 0.7, 0.1, 0.1, 0.2],\n",
       "       [0.9, 0.2, 0.2, 0.7, 0.8, 0.1, 0.2, 0.2, 0.7, 0.2, 0. , 0. ],\n",
       "       [0.1, 0.1, 0.8, 0.1, 0.1, 0.7, 0. , 0.9, 0. , 0.7, 0. , 0. ],\n",
       "       [0.1, 0.2, 0.9, 0. , 0.2, 0.7, 0.1, 0.9, 0.2, 0.7, 0. , 0.1],\n",
       "       [0.2, 0. , 0.9, 0.2, 0.1, 0.8, 0. , 0.8, 0.2, 0.7, 0. , 0. ],\n",
       "       [0.2, 0. , 0.7, 0.2, 0.1, 0.8, 0. , 0.9, 0.2, 0.7, 0. , 0.2]])"
      ]
     },
     "execution_count": 10,
     "metadata": {},
     "output_type": "execute_result"
    }
   ],
   "source": [
    "#Now for the actual shuffling\n",
    "#Shuffle the columns of dataset and copy it to new_dataset\n",
    "new_D = D[:,col_idx].copy()\n",
    "new_D"
   ]
  },
  {
   "cell_type": "code",
   "execution_count": 11,
   "id": "9bf23033-ced5-4c61-8658-1bd365c10fbf",
   "metadata": {},
   "outputs": [
    {
     "data": {
      "text/plain": [
       "array([[0.2, 0. , 0.7, 0.2, 0.1, 0.8, 0. , 0.9, 0.2, 0.7, 0. , 0.2],\n",
       "       [0.2, 0. , 0.9, 0.2, 0.1, 0.8, 0. , 0.8, 0.2, 0.7, 0. , 0. ],\n",
       "       [0.1, 0.7, 0.2, 0.1, 0. , 0. , 0.7, 0.2, 0.1, 0.2, 0.8, 0.8],\n",
       "       [0.1, 0.8, 0.2, 0.1, 0.1, 0.1, 0.9, 0. , 0.2, 0.2, 0.7, 0.9],\n",
       "       [0.2, 0.9, 0. , 0.2, 0.1, 0.2, 0.9, 0.1, 0.1, 0.1, 0.8, 0.7],\n",
       "       [0.9, 0.2, 0.2, 0.7, 0.8, 0.1, 0.2, 0.2, 0.7, 0.2, 0. , 0. ],\n",
       "       [0.1, 0.7, 0.2, 0.2, 0.1, 0.2, 0.9, 0. , 0. , 0. , 0.7, 0.8],\n",
       "       [0.8, 0. , 0.2, 0.8, 0.7, 0.1, 0. , 0. , 0.7, 0.1, 0.1, 0.2],\n",
       "       [0.1, 0.2, 0.9, 0. , 0.2, 0.7, 0.1, 0.9, 0.2, 0.7, 0. , 0.1],\n",
       "       [0.9, 0. , 0.2, 0.7, 0.7, 0. , 0.2, 0.2, 0.7, 0.1, 0. , 0.2],\n",
       "       [0.9, 0.1, 0. , 0.8, 0.8, 0.2, 0. , 0.2, 0.9, 0. , 0.1, 0.2],\n",
       "       [0.1, 0.1, 0.8, 0.1, 0.1, 0.7, 0. , 0.9, 0. , 0.7, 0. , 0. ]])"
      ]
     },
     "execution_count": 11,
     "metadata": {},
     "output_type": "execute_result"
    }
   ],
   "source": [
    "#Shuffle the rows of new_dataset\n",
    "new_D = new_D[row_idx,:]\n",
    "new_D"
   ]
  },
  {
   "cell_type": "code",
   "execution_count": 12,
   "id": "23c8fd70-65da-4538-bbf9-02fd6dd24f60",
   "metadata": {},
   "outputs": [],
   "source": [
    "#Now save it to the npz\n",
    "#arr_0 : new_D\n",
    "#arr_1 : row_idx\n",
    "#arr_2 : col_idx\n",
    "#arr_3 : bicluster_row_idx\n",
    "#arr_4 : bicluster_col_idx\n",
    "np.savez('./problems/gbs_exp2_part1.npz',new_D,row_idx,col_idx,biclusters_row_idx,biclusters_col_idx)"
   ]
  },
  {
   "cell_type": "code",
   "execution_count": null,
   "id": "0a122e0d-fada-4190-938c-1f12ea4d64e1",
   "metadata": {},
   "outputs": [],
   "source": []
  }
 ],
 "metadata": {
  "kernelspec": {
   "display_name": "research_2023",
   "language": "python",
   "name": "research_2023"
  },
  "language_info": {
   "codemirror_mode": {
    "name": "ipython",
    "version": 3
   },
   "file_extension": ".py",
   "mimetype": "text/x-python",
   "name": "python",
   "nbconvert_exporter": "python",
   "pygments_lexer": "ipython3",
   "version": "3.11.4"
  }
 },
 "nbformat": 4,
 "nbformat_minor": 5
}
