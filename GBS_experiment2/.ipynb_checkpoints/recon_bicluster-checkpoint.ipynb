{
 "cells": [
  {
   "cell_type": "code",
   "execution_count": 1,
   "id": "6763186c-c9f6-4b39-aa78-67bf2484ebeb",
   "metadata": {},
   "outputs": [],
   "source": [
    "import numpy as np"
   ]
  },
  {
   "cell_type": "code",
   "execution_count": 2,
   "id": "c5464649-5a25-462b-aeec-5ec7de7c6f1a",
   "metadata": {},
   "outputs": [],
   "source": [
    "#arr_0 : new_D\n",
    "#arr_1 : row_idx\n",
    "#arr_2 : col_idx\n",
    "#arr_3 : bicluster_row_idx\n",
    "#arr_4 : bicluster_col_idx"
   ]
  },
  {
   "cell_type": "code",
   "execution_count": 3,
   "id": "da825b94-b4a0-4d37-b55d-6813d5c12c8f",
   "metadata": {},
   "outputs": [],
   "source": [
    "f = np.load('./problems/gbs_exp2_part1.npz')"
   ]
  },
  {
   "cell_type": "code",
   "execution_count": 4,
   "id": "89fd1dcc-0b76-4895-b709-a138c4218a4d",
   "metadata": {},
   "outputs": [],
   "source": [
    "dataset = f['arr_0']\n",
    "row_idx = f['arr_1']\n",
    "col_idx = f['arr_2']\n",
    "biclusters_row_idx = f['arr_3']\n",
    "biclusters_col_idx = f['arr_4']"
   ]
  },
  {
   "cell_type": "code",
   "execution_count": 5,
   "id": "86d6cbda-bd56-494f-860a-6cb1ec7181c2",
   "metadata": {},
   "outputs": [
    {
     "data": {
      "text/plain": [
       "array([[0.7, 0.7, 0.8, 0.8],\n",
       "       [0.9, 0.9, 0.7, 0.8],\n",
       "       [0.7, 0.9, 0.8, 0.7],\n",
       "       [0.8, 0.9, 0.9, 0.7]])"
      ]
     },
     "execution_count": 5,
     "metadata": {},
     "output_type": "execute_result"
    }
   ],
   "source": [
    "#reconstructing bicluster #0\n",
    "#compare with the original biclusters generated in generate_biclusters\n",
    "dataset[np.ix_(biclusters_row_idx[0][:,0],biclusters_col_idx[0][:,0])]"
   ]
  },
  {
   "cell_type": "code",
   "execution_count": 6,
   "id": "b56e3950-465b-4a6d-85ab-212d1dc0f689",
   "metadata": {},
   "outputs": [
    {
     "data": {
      "text/plain": [
       "array([[0.9, 0.7, 0.7, 0.7],\n",
       "       [0.9, 0.9, 0.8, 0.8],\n",
       "       [0.8, 0.7, 0.8, 0.7],\n",
       "       [0.9, 0.7, 0.7, 0.8]])"
      ]
     },
     "execution_count": 6,
     "metadata": {},
     "output_type": "execute_result"
    }
   ],
   "source": [
    "#reconstructing bicluster #1\n",
    "#compare with the original biclusters generated in generate_biclusters\n",
    "dataset[np.ix_(biclusters_row_idx[1][:,0],biclusters_col_idx[1][:,0])]"
   ]
  },
  {
   "cell_type": "code",
   "execution_count": 7,
   "id": "0fed871b-2bbc-4c9f-b1eb-68e6b2fa0d72",
   "metadata": {},
   "outputs": [
    {
     "data": {
      "text/plain": [
       "array([[0.7, 0.9, 0.8, 0.7],\n",
       "       [0.7, 0.9, 0.9, 0.7],\n",
       "       [0.8, 0.8, 0.9, 0.7],\n",
       "       [0.8, 0.9, 0.7, 0.7]])"
      ]
     },
     "execution_count": 7,
     "metadata": {},
     "output_type": "execute_result"
    }
   ],
   "source": [
    "#reconstructing bicluster #2\n",
    "#compare with the original biclusters generated in generate_biclusters\n",
    "dataset[np.ix_(biclusters_row_idx[2][:,0],biclusters_col_idx[2][:,0])]"
   ]
  },
  {
   "cell_type": "code",
   "execution_count": 8,
   "id": "ecd74c49-5ab3-4177-86a1-2508505d24d1",
   "metadata": {},
   "outputs": [],
   "source": [
    "#Comparing the permanent of biclusters of original with sorted columns of new\n",
    "from thewalrus import perm"
   ]
  },
  {
   "cell_type": "code",
   "execution_count": 9,
   "id": "c5da212e-0964-44b1-a8fc-65aaa0468d9f",
   "metadata": {},
   "outputs": [
    {
     "data": {
      "text/plain": [
       "9.498499999999998"
      ]
     },
     "execution_count": 9,
     "metadata": {},
     "output_type": "execute_result"
    }
   ],
   "source": [
    "perm(dataset[np.ix_(biclusters_row_idx[0][:,0],biclusters_col_idx[0][:,0])])"
   ]
  },
  {
   "cell_type": "code",
   "execution_count": 10,
   "id": "fd0b72f2-0c19-4cde-a4cc-e0d0a705db72",
   "metadata": {},
   "outputs": [
    {
     "data": {
      "text/plain": [
       "9.4985"
      ]
     },
     "execution_count": 10,
     "metadata": {},
     "output_type": "execute_result"
    }
   ],
   "source": [
    "perm(dataset[np.ix_(np.sort(biclusters_row_idx[0][:,0]),np.sort(biclusters_col_idx[0][:,0]))])"
   ]
  },
  {
   "cell_type": "code",
   "execution_count": 11,
   "id": "e66eeb42-679c-4a77-a7b5-eff0fea61dc6",
   "metadata": {},
   "outputs": [
    {
     "data": {
      "text/plain": [
       "8.8295"
      ]
     },
     "execution_count": 11,
     "metadata": {},
     "output_type": "execute_result"
    }
   ],
   "source": [
    "perm(dataset[np.ix_(biclusters_row_idx[1][:,0],biclusters_col_idx[1][:,0])])"
   ]
  },
  {
   "cell_type": "code",
   "execution_count": 12,
   "id": "14698f34-b411-4855-ab4f-cdaf73d5c8b0",
   "metadata": {},
   "outputs": [
    {
     "data": {
      "text/plain": [
       "8.829499999999998"
      ]
     },
     "execution_count": 12,
     "metadata": {},
     "output_type": "execute_result"
    }
   ],
   "source": [
    "perm(dataset[np.ix_(np.sort(biclusters_row_idx[1][:,0]),np.sort(biclusters_col_idx[1][:,0]))])"
   ]
  },
  {
   "cell_type": "code",
   "execution_count": 13,
   "id": "3c030124-edc6-46c5-820e-4554821825a7",
   "metadata": {},
   "outputs": [
    {
     "data": {
      "text/plain": [
       "9.1147"
      ]
     },
     "execution_count": 13,
     "metadata": {},
     "output_type": "execute_result"
    }
   ],
   "source": [
    "perm(dataset[np.ix_(biclusters_row_idx[2][:,0],biclusters_col_idx[2][:,0])])"
   ]
  },
  {
   "cell_type": "code",
   "execution_count": 14,
   "id": "1b320467-fa1b-4b91-bc8f-d4d4aa3bbdf0",
   "metadata": {},
   "outputs": [
    {
     "data": {
      "text/plain": [
       "9.114699999999996"
      ]
     },
     "execution_count": 14,
     "metadata": {},
     "output_type": "execute_result"
    }
   ],
   "source": [
    "perm(dataset[np.ix_(np.sort(biclusters_row_idx[2][:,0]),np.sort(biclusters_col_idx[2][:,0]))])"
   ]
  },
  {
   "cell_type": "code",
   "execution_count": 21,
   "id": "f9928b68-9f9f-40cf-a77f-7f5ecc034e99",
   "metadata": {},
   "outputs": [],
   "source": [
    "#Let us figure out the bitstrings for each of the clusters\n",
    "#Functions for that\n",
    "def list_to_str(l):\n",
    "    \n",
    "    temp_str = str(l)\n",
    "    temp_str = temp_str.replace(\"[\",\"\")\n",
    "    temp_str = temp_str.replace(\"]\",\"\")\n",
    "    temp_str = temp_str.replace(\",\",\"\")\n",
    "    temp_str = temp_str.replace(\" \",\"\")\n",
    "    return temp_str\n",
    "\n",
    "def rowcol_2_bitstr(bic_row,bic_col,data_len):\n",
    "    bicluster_list = [0 for i in range(2*data_len)]\n",
    "    \n",
    "    #rows\n",
    "    for item in bic_row:\n",
    "        bicluster_list[item] = 1\n",
    "\n",
    "    #columns\n",
    "    for item in bic_col:\n",
    "        bicluster_list[item + data_len] = 1\n",
    "    \n",
    "    return list_to_str(bicluster_list)\n",
    "    "
   ]
  },
  {
   "cell_type": "code",
   "execution_count": 27,
   "id": "3ca59f9d-d815-43cd-b805-6ad96e95d46d",
   "metadata": {},
   "outputs": [
    {
     "name": "stdout",
     "output_type": "stream",
     "text": [
      "Cluster #: 0\n",
      "Rows: [2 3 4 6]\n",
      "Columns: [ 1  6 10 11]\n",
      "Bitstring: 001110100000010000100011\n",
      "---\n",
      "Cluster #: 1\n",
      "Rows: [ 5  7  9 10]\n",
      "Columns: [0 3 4 8]\n",
      "Bitstring: 000001010110100110001000\n",
      "---\n",
      "Cluster #: 2\n",
      "Rows: [ 0  1  8 11]\n",
      "Columns: [2 5 7 9]\n",
      "Bitstring: 110000001001001001010100\n",
      "---\n"
     ]
    }
   ],
   "source": [
    "for i in range(0,3):\n",
    "    print(\"Cluster #:\",i)\n",
    "    print(\"Rows:\",np.sort(biclusters_row_idx[i][:,0]))\n",
    "    print(\"Columns:\",np.sort(biclusters_col_idx[i][:,0]))\n",
    "    print(\"Bitstring:\", rowcol_2_bitstr(np.sort(biclusters_row_idx[i][:,0]),np.sort(biclusters_col_idx[i][:,0]),dataset.shape[0]))\n",
    "    print(\"---\")"
   ]
  },
  {
   "cell_type": "code",
   "execution_count": null,
   "id": "832a9921-50eb-4a3c-a5d3-123e32b667e7",
   "metadata": {},
   "outputs": [],
   "source": []
  }
 ],
 "metadata": {
  "kernelspec": {
   "display_name": "Python 3 (ipykernel)",
   "language": "python",
   "name": "python3"
  },
  "language_info": {
   "codemirror_mode": {
    "name": "ipython",
    "version": 3
   },
   "file_extension": ".py",
   "mimetype": "text/x-python",
   "name": "python",
   "nbconvert_exporter": "python",
   "pygments_lexer": "ipython3",
   "version": "3.11.4"
  }
 },
 "nbformat": 4,
 "nbformat_minor": 5
}
