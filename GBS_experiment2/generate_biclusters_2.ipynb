{
 "cells": [
  {
   "cell_type": "code",
   "execution_count": 1,
   "id": "55fd28bd-91e5-43f1-bfc1-75f2504c5749",
   "metadata": {},
   "outputs": [],
   "source": [
    "#Take the first problem, remove two biclusters (#1 and #2) and save it as part 2\n",
    "import numpy as np"
   ]
  },
  {
   "cell_type": "code",
   "execution_count": 2,
   "id": "a76deeec-b65c-4188-a492-70c4f17080bf",
   "metadata": {},
   "outputs": [],
   "source": [
    "#Load the problem\n",
    "fp = np.load('./problems/gbs_exp2_part1.npz')"
   ]
  },
  {
   "cell_type": "code",
   "execution_count": 3,
   "id": "ff99558e-0a99-438b-92f2-c5a1ee334f16",
   "metadata": {},
   "outputs": [],
   "source": [
    "dataset = fp['arr_0']\n",
    "shuffle_row_idx = fp['arr_1']\n",
    "shuffle_col_idx = fp['arr_2']\n",
    "biclusters_row_idx = fp['arr_3']\n",
    "biclusters_col_idx = fp['arr_4']"
   ]
  },
  {
   "cell_type": "code",
   "execution_count": 4,
   "id": "0d184ffa-fd85-4042-876f-333e1e014e7c",
   "metadata": {},
   "outputs": [
    {
     "data": {
      "text/plain": [
       "array([[0.2, 0. , 0.7, 0.2, 0.1, 0.8, 0. , 0.9, 0.2, 0.7, 0. , 0.2],\n",
       "       [0.2, 0. , 0.9, 0.2, 0.1, 0.8, 0. , 0.8, 0.2, 0.7, 0. , 0. ],\n",
       "       [0.1, 0.7, 0.2, 0.1, 0. , 0. , 0.7, 0.2, 0.1, 0.2, 0.8, 0.8],\n",
       "       [0.1, 0.8, 0.2, 0.1, 0.1, 0.1, 0.9, 0. , 0.2, 0.2, 0.7, 0.9],\n",
       "       [0.2, 0.9, 0. , 0.2, 0.1, 0.2, 0.9, 0.1, 0.1, 0.1, 0.8, 0.7],\n",
       "       [0.9, 0.2, 0.2, 0.7, 0.8, 0.1, 0.2, 0.2, 0.7, 0.2, 0. , 0. ],\n",
       "       [0.1, 0.7, 0.2, 0.2, 0.1, 0.2, 0.9, 0. , 0. , 0. , 0.7, 0.8],\n",
       "       [0.8, 0. , 0.2, 0.8, 0.7, 0.1, 0. , 0. , 0.7, 0.1, 0.1, 0.2],\n",
       "       [0.1, 0.2, 0.9, 0. , 0.2, 0.7, 0.1, 0.9, 0.2, 0.7, 0. , 0.1],\n",
       "       [0.9, 0. , 0.2, 0.7, 0.7, 0. , 0.2, 0.2, 0.7, 0.1, 0. , 0.2],\n",
       "       [0.9, 0.1, 0. , 0.8, 0.8, 0.2, 0. , 0.2, 0.9, 0. , 0.1, 0.2],\n",
       "       [0.1, 0.1, 0.8, 0.1, 0.1, 0.7, 0. , 0.9, 0. , 0.7, 0. , 0. ]])"
      ]
     },
     "execution_count": 4,
     "metadata": {},
     "output_type": "execute_result"
    }
   ],
   "source": [
    "dataset"
   ]
  },
  {
   "cell_type": "code",
   "execution_count": 5,
   "id": "adbfe182-0839-48db-a44a-7ee76f7eed2e",
   "metadata": {},
   "outputs": [],
   "source": [
    "#Set bicluster #1 and #2 to zero\n",
    "for i in range(1,3):\n",
    "    dataset[np.ix_(np.sort(biclusters_row_idx[i][:,0]),np.sort(biclusters_col_idx[i][:,0]))] = np.zeros([4,4])"
   ]
  },
  {
   "cell_type": "code",
   "execution_count": 9,
   "id": "c4c80f38-d316-4153-bd4e-f4634a5e5218",
   "metadata": {},
   "outputs": [],
   "source": [
    "np.savez('./problems/gbs_exp2_part2.npz',dataset,shuffle_row_idx,shuffle_col_idx,biclusters_row_idx[0],biclusters_col_idx[0])"
   ]
  },
  {
   "cell_type": "code",
   "execution_count": 16,
   "id": "a2f03c72-3603-4668-bef5-a9d5ccffbc04",
   "metadata": {},
   "outputs": [
    {
     "data": {
      "text/plain": [
       "array([2, 3, 4, 6])"
      ]
     },
     "execution_count": 16,
     "metadata": {},
     "output_type": "execute_result"
    }
   ],
   "source": [
    "np.sort(biclusters_row_idx[0][:,0])"
   ]
  },
  {
   "cell_type": "code",
   "execution_count": 17,
   "id": "c3d96004-808d-436d-8191-f2f64f765266",
   "metadata": {},
   "outputs": [
    {
     "data": {
      "text/plain": [
       "array([ 1,  6, 10, 11])"
      ]
     },
     "execution_count": 17,
     "metadata": {},
     "output_type": "execute_result"
    }
   ],
   "source": [
    "np.sort(biclusters_col_idx[0][:,0])"
   ]
  },
  {
   "cell_type": "code",
   "execution_count": 10,
   "id": "05ccece4-f748-4c85-b7fb-d75a2a363a8a",
   "metadata": {},
   "outputs": [
    {
     "data": {
      "text/plain": [
       "array([[0.2, 0. , 0. , 0.2, 0.1, 0. , 0. , 0. , 0.2, 0. , 0. , 0.2],\n",
       "       [0.2, 0. , 0. , 0.2, 0.1, 0. , 0. , 0. , 0.2, 0. , 0. , 0. ],\n",
       "       [0.1, 0.7, 0.2, 0.1, 0. , 0. , 0.7, 0.2, 0.1, 0.2, 0.8, 0.8],\n",
       "       [0.1, 0.8, 0.2, 0.1, 0.1, 0.1, 0.9, 0. , 0.2, 0.2, 0.7, 0.9],\n",
       "       [0.2, 0.9, 0. , 0.2, 0.1, 0.2, 0.9, 0.1, 0.1, 0.1, 0.8, 0.7],\n",
       "       [0. , 0.2, 0.2, 0. , 0. , 0.1, 0.2, 0.2, 0. , 0.2, 0. , 0. ],\n",
       "       [0.1, 0.7, 0.2, 0.2, 0.1, 0.2, 0.9, 0. , 0. , 0. , 0.7, 0.8],\n",
       "       [0. , 0. , 0.2, 0. , 0. , 0.1, 0. , 0. , 0. , 0.1, 0.1, 0.2],\n",
       "       [0.1, 0.2, 0. , 0. , 0.2, 0. , 0.1, 0. , 0.2, 0. , 0. , 0.1],\n",
       "       [0. , 0. , 0.2, 0. , 0. , 0. , 0.2, 0.2, 0. , 0.1, 0. , 0.2],\n",
       "       [0. , 0.1, 0. , 0. , 0. , 0.2, 0. , 0.2, 0. , 0. , 0.1, 0.2],\n",
       "       [0.1, 0.1, 0. , 0.1, 0.1, 0. , 0. , 0. , 0. , 0. , 0. , 0. ]])"
      ]
     },
     "execution_count": 10,
     "metadata": {},
     "output_type": "execute_result"
    }
   ],
   "source": [
    "dataset"
   ]
  },
  {
   "cell_type": "code",
   "execution_count": 18,
   "id": "13e6aaf1-aa36-434e-8b5e-28a6b7f80a3a",
   "metadata": {},
   "outputs": [],
   "source": [
    "f = np.load('./problems/gbs_exp2_part2.npz')"
   ]
  },
  {
   "cell_type": "code",
   "execution_count": 19,
   "id": "5817a752-7f1e-4689-8d2c-a2e96f463bb9",
   "metadata": {},
   "outputs": [
    {
     "data": {
      "text/plain": [
       "array([[0.2, 0. , 0. , 0.2, 0.1, 0. , 0. , 0. , 0.2, 0. , 0. , 0.2],\n",
       "       [0.2, 0. , 0. , 0.2, 0.1, 0. , 0. , 0. , 0.2, 0. , 0. , 0. ],\n",
       "       [0.1, 0.7, 0.2, 0.1, 0. , 0. , 0.7, 0.2, 0.1, 0.2, 0.8, 0.8],\n",
       "       [0.1, 0.8, 0.2, 0.1, 0.1, 0.1, 0.9, 0. , 0.2, 0.2, 0.7, 0.9],\n",
       "       [0.2, 0.9, 0. , 0.2, 0.1, 0.2, 0.9, 0.1, 0.1, 0.1, 0.8, 0.7],\n",
       "       [0. , 0.2, 0.2, 0. , 0. , 0.1, 0.2, 0.2, 0. , 0.2, 0. , 0. ],\n",
       "       [0.1, 0.7, 0.2, 0.2, 0.1, 0.2, 0.9, 0. , 0. , 0. , 0.7, 0.8],\n",
       "       [0. , 0. , 0.2, 0. , 0. , 0.1, 0. , 0. , 0. , 0.1, 0.1, 0.2],\n",
       "       [0.1, 0.2, 0. , 0. , 0.2, 0. , 0.1, 0. , 0.2, 0. , 0. , 0.1],\n",
       "       [0. , 0. , 0.2, 0. , 0. , 0. , 0.2, 0.2, 0. , 0.1, 0. , 0.2],\n",
       "       [0. , 0.1, 0. , 0. , 0. , 0.2, 0. , 0.2, 0. , 0. , 0.1, 0.2],\n",
       "       [0.1, 0.1, 0. , 0.1, 0.1, 0. , 0. , 0. , 0. , 0. , 0. , 0. ]])"
      ]
     },
     "execution_count": 19,
     "metadata": {},
     "output_type": "execute_result"
    }
   ],
   "source": [
    "f['arr_0']"
   ]
  },
  {
   "cell_type": "code",
   "execution_count": null,
   "id": "c4b0f015-8f66-46d4-9556-d2015c6f7266",
   "metadata": {},
   "outputs": [],
   "source": []
  }
 ],
 "metadata": {
  "kernelspec": {
   "display_name": "research_2023",
   "language": "python",
   "name": "research_2023"
  },
  "language_info": {
   "codemirror_mode": {
    "name": "ipython",
    "version": 3
   },
   "file_extension": ".py",
   "mimetype": "text/x-python",
   "name": "python",
   "nbconvert_exporter": "python",
   "pygments_lexer": "ipython3",
   "version": "3.11.4"
  }
 },
 "nbformat": 4,
 "nbformat_minor": 5
}
