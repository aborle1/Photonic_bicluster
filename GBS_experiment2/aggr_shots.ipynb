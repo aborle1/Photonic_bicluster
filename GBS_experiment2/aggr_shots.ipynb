{
 "cells": [
  {
   "cell_type": "code",
   "execution_count": 1,
   "id": "d93ebc71-6069-4458-a107-b0399f4067da",
   "metadata": {},
   "outputs": [],
   "source": [
    "import numpy as np"
   ]
  },
  {
   "cell_type": "code",
   "execution_count": 2,
   "id": "fbdf61cd-581c-408c-9198-5e97512c403b",
   "metadata": {},
   "outputs": [],
   "source": [
    "all_photons = [48] #[i * 24 for i in [1,2,4,6,10]]\n",
    "all_shots = 1000"
   ]
  },
  {
   "cell_type": "code",
   "execution_count": 8,
   "id": "dc375e98-a800-4455-8d01-7054502e80bf",
   "metadata": {},
   "outputs": [
    {
     "name": "stdout",
     "output_type": "stream",
     "text": [
      "photons: 48\n",
      "Saved to: ./results/res_gbs_exp2_photon48_shots10000.npy\n",
      "----\n"
     ]
    }
   ],
   "source": [
    "shots = 1000\n",
    "for photon in all_photons:\n",
    "    all_samples = np.zeros([10000,24])\n",
    "    \n",
    "    for i in range(0,10):\n",
    "        filepath = './results/res_gbs_exp2_photon'+str(photon)+'_shots'+str(shots)+'_'+str(i)+'.npy'\n",
    "        all_samples[i*1000:1000*(i+1)] = np.load(filepath)\n",
    "\n",
    "    final_filepath = './results/res_gbs_exp2_photon'+str(photon)+'_shots10000.npy'\n",
    "    all_samples = all_samples.astype(int)\n",
    "    np.save(final_filepath,all_samples)\n",
    "    print(\"photons:\",photon)\n",
    "    print(\"Saved to:\",final_filepath)\n",
    "    print(\"----\")\n",
    "    "
   ]
  },
  {
   "cell_type": "code",
   "execution_count": 9,
   "id": "5c710ac8-50bb-49e2-b7cb-821114d32284",
   "metadata": {},
   "outputs": [
    {
     "data": {
      "text/plain": [
       "array([[0, 0, 1, ..., 1, 1, 0],\n",
       "       [1, 1, 1, ..., 1, 1, 1],\n",
       "       [1, 1, 1, ..., 1, 1, 0],\n",
       "       ...,\n",
       "       [1, 1, 1, ..., 1, 0, 0],\n",
       "       [1, 1, 1, ..., 1, 1, 0],\n",
       "       [1, 0, 0, ..., 1, 0, 0]])"
      ]
     },
     "execution_count": 9,
     "metadata": {},
     "output_type": "execute_result"
    }
   ],
   "source": [
    "all_samples"
   ]
  },
  {
   "cell_type": "code",
   "execution_count": 10,
   "id": "a897e5f1-8b04-48ec-aca1-6a81e5cf995d",
   "metadata": {},
   "outputs": [
    {
     "name": "stdout",
     "output_type": "stream",
     "text": [
      "photons: 48\n",
      "Saved to: ./results/res_gbs_exp2_part2_photon48_shots10000.npy\n",
      "----\n"
     ]
    }
   ],
   "source": [
    "#part2\n",
    "shots = 1000\n",
    "for photon in all_photons:\n",
    "    all_samples = np.zeros([10000,24])\n",
    "    \n",
    "    for i in range(0,10):\n",
    "        filepath = './results/res_gbs_exp2_part2_photon'+str(photon)+'_shots'+str(shots)+'_'+str(i)+'.npy'\n",
    "        all_samples[i*1000:1000*(i+1)] = np.load(filepath)\n",
    "\n",
    "    final_filepath = './results/res_gbs_exp2_part2_photon'+str(photon)+'_shots10000.npy'\n",
    "    all_samples = all_samples.astype(int)\n",
    "    np.save(final_filepath,all_samples)\n",
    "    print(\"photons:\",photon)\n",
    "    print(\"Saved to:\",final_filepath)\n",
    "    print(\"----\")"
   ]
  },
  {
   "cell_type": "code",
   "execution_count": 11,
   "id": "dccdf564-dea9-40b6-8b74-ee27518c7d6f",
   "metadata": {},
   "outputs": [
    {
     "name": "stdout",
     "output_type": "stream",
     "text": [
      "photons: 48\n",
      "Saved to: ./results/resbin_gbs_exp2_part2_photon48_shots10000.npy\n",
      "----\n"
     ]
    }
   ],
   "source": [
    "#part2 : binary\n",
    "shots = 1000\n",
    "for photon in all_photons:\n",
    "    all_samples = np.zeros([10000,24])\n",
    "    \n",
    "    for i in range(0,10):\n",
    "        filepath = './results/resbin_gbs_exp2_part2_photon'+str(photon)+'_shots'+str(shots)+'_'+str(i)+'.npy'\n",
    "        all_samples[i*1000:1000*(i+1)] = np.load(filepath)\n",
    "\n",
    "    final_filepath = './results/resbin_gbs_exp2_part2_photon'+str(photon)+'_shots10000.npy'\n",
    "    all_samples = all_samples.astype(int)\n",
    "    np.save(final_filepath,all_samples)\n",
    "    print(\"photons:\",photon)\n",
    "    print(\"Saved to:\",final_filepath)\n",
    "    print(\"----\")"
   ]
  },
  {
   "cell_type": "code",
   "execution_count": 3,
   "id": "e65a9a46-2023-4ebb-b86a-20e4cbde8c3e",
   "metadata": {},
   "outputs": [
    {
     "name": "stdout",
     "output_type": "stream",
     "text": [
      "photons: 48\n",
      "Saved to: ./results/resbin_gbs_exp2_part3_photon48_shots10000.npy\n",
      "----\n"
     ]
    }
   ],
   "source": [
    "#part3 : binary (also)\n",
    "shots = 1000\n",
    "for photon in all_photons:\n",
    "    all_samples = np.zeros([10000,24])\n",
    "    \n",
    "    for i in range(0,10):\n",
    "        filepath = './results/resbin_gbs_exp2_part3_photon'+str(photon)+'_shots'+str(shots)+'_'+str(i)+'.npy'\n",
    "        all_samples[i*1000:1000*(i+1)] = np.load(filepath)\n",
    "\n",
    "    final_filepath = './results/resbin_gbs_exp2_part3_photon'+str(photon)+'_shots10000.npy'\n",
    "    all_samples = all_samples.astype(int)\n",
    "    np.save(final_filepath,all_samples)\n",
    "    print(\"photons:\",photon)\n",
    "    print(\"Saved to:\",final_filepath)\n",
    "    print(\"----\")"
   ]
  },
  {
   "cell_type": "code",
   "execution_count": null,
   "id": "156b836c-98e5-45a1-adb6-81947d468715",
   "metadata": {},
   "outputs": [],
   "source": []
  }
 ],
 "metadata": {
  "kernelspec": {
   "display_name": "Python 3 (ipykernel)",
   "language": "python",
   "name": "python3"
  },
  "language_info": {
   "codemirror_mode": {
    "name": "ipython",
    "version": 3
   },
   "file_extension": ".py",
   "mimetype": "text/x-python",
   "name": "python",
   "nbconvert_exporter": "python",
   "pygments_lexer": "ipython3",
   "version": "3.11.4"
  }
 },
 "nbformat": 4,
 "nbformat_minor": 5
}
