{
 "cells": [
  {
   "cell_type": "code",
   "execution_count": 1,
   "id": "00f1000e-e918-43d8-afd7-dcff3b7feb67",
   "metadata": {},
   "outputs": [],
   "source": [
    "import numpy as np\n",
    "from sklearn.datasets import make_biclusters\n",
    "from matplotlib import pyplot as plt"
   ]
  },
  {
   "cell_type": "code",
   "execution_count": 2,
   "id": "a5448052-9b9e-4a42-b8fe-724122f8ac93",
   "metadata": {},
   "outputs": [
    {
     "name": "stderr",
     "output_type": "stream",
     "text": [
      "C:\\Users\\User\\AppData\\Local\\Temp\\ipykernel_4732\\3892636511.py:10: UserWarning: This figure includes Axes that are not compatible with tight_layout, so results might be incorrect.\n",
      "  plt.tight_layout()\n"
     ]
    },
    {
     "data": {
      "text/plain": [
       "<Figure size 400x400 with 0 Axes>"
      ]
     },
     "metadata": {},
     "output_type": "display_data"
    },
    {
     "data": {
      "image/png": "[encoded data removed]",
      "text/plain": [
       "<Figure size 480x480 with 1 Axes>"
      ]
     },
     "metadata": {},
     "output_type": "display_data"
    }
   ],
   "source": [
    "boson_sampling_obj = np.load('bs_exp2_part1.npz')\n",
    "boson_data = boson_sampling_obj['arr_0']\n",
    "\n",
    "# convert the data into a bool data\n",
    "# If the values in matrix are\n",
    "plt.figure(figsize=(4,4))\n",
    "plt.matshow(boson_data, cmap=plt.cm.Blues)\n",
    "plt.xticks([])\n",
    "plt.yticks([])\n",
    "plt.tight_layout()\n",
    "plt.savefig('plot_bs_exp2_part1.svg')"
   ]
  },
  {
   "cell_type": "code",
   "execution_count": 3,
   "id": "a467aab4-f18a-4d5a-9cd1-31bb0ef44e06",
   "metadata": {},
   "outputs": [
    {
     "name": "stderr",
     "output_type": "stream",
     "text": [
      "C:\\Users\\User\\AppData\\Local\\Temp\\ipykernel_4732\\668373706.py:10: UserWarning: This figure includes Axes that are not compatible with tight_layout, so results might be incorrect.\n",
      "  plt.tight_layout()\n"
     ]
    },
    {
     "data": {
      "text/plain": [
       "<Figure size 400x400 with 0 Axes>"
      ]
     },
     "metadata": {},
     "output_type": "display_data"
    },
    {
     "data": {
      "image/png": "[encoded data removed]",
      "text/plain": [
       "<Figure size 480x480 with 1 Axes>"
      ]
     },
     "metadata": {},
     "output_type": "display_data"
    }
   ],
   "source": [
    "boson_sampling_obj = np.load('bs_exp1_part1.npy')\n",
    "boson_data = boson_sampling_obj\n",
    "\n",
    "# convert the data into a bool data\n",
    "# If the values in matrix are\n",
    "plt.figure(figsize=(4,4))\n",
    "plt.matshow(boson_data, cmap=plt.cm.Blues)\n",
    "plt.xticks([])\n",
    "plt.yticks([])\n",
    "plt.tight_layout()\n",
    "plt.savefig('plot_bs_exp1_part1.svg')"
   ]
  },
  {
   "cell_type": "code",
   "execution_count": 4,
   "id": "779e908e-99bf-450a-b205-d71213f8f763",
   "metadata": {},
   "outputs": [
    {
     "name": "stderr",
     "output_type": "stream",
     "text": [
      "C:\\Users\\User\\AppData\\Local\\Temp\\ipykernel_4732\\3278894967.py:11: UserWarning: This figure includes Axes that are not compatible with tight_layout, so results might be incorrect.\n",
      "  plt.tight_layout()\n"
     ]
    },
    {
     "data": {
      "text/plain": [
       "<Figure size 400x400 with 0 Axes>"
      ]
     },
     "metadata": {},
     "output_type": "display_data"
    },
    {
     "data": {
      "image/png": "[encoded data removed]",
      "text/plain": [
       "<Figure size 480x480 with 1 Axes>"
      ]
     },
     "metadata": {},
     "output_type": "display_data"
    }
   ],
   "source": [
    "# Load the object for GBS \n",
    "gaussian_boson_sampling_obj = np.load('gbs_exp2_part1.npz')\n",
    "# Get the dataset \n",
    "gaussian_data = gaussian_boson_sampling_obj['arr_0']\n",
    "# convert the data into a bool data\n",
    "# If the values in matrix are\n",
    "plt.figure(figsize=(4,4))\n",
    "plt.matshow(gaussian_data, cmap=plt.cm.Blues)\n",
    "plt.xticks([])\n",
    "plt.yticks([])\n",
    "plt.tight_layout()\n",
    "plt.savefig('plot_gbs_exp2_post.svg')\n"
   ]
  },
  {
   "cell_type": "code",
   "execution_count": 5,
   "id": "c56a0ae4-5d91-4832-9379-a25390fb9c79",
   "metadata": {},
   "outputs": [
    {
     "name": "stderr",
     "output_type": "stream",
     "text": [
      "C:\\Users\\User\\AppData\\Local\\Temp\\ipykernel_4732\\1680994413.py:27: UserWarning: This figure includes Axes that are not compatible with tight_layout, so results might be incorrect.\n",
      "  plt.tight_layout()\n"
     ]
    },
    {
     "data": {
      "text/plain": [
       "<Figure size 400x400 with 0 Axes>"
      ]
     },
     "metadata": {},
     "output_type": "display_data"
    },
    {
     "data": {
      "image/png": "[encoded data removed]",
      "text/plain": [
       "<Figure size 480x480 with 1 Axes>"
      ]
     },
     "metadata": {},
     "output_type": "display_data"
    }
   ],
   "source": [
    "#------------- Here we will re-create the first phase of the dataset we used for GBS experiment 2, but stop before we shuffle the rows and columns\n",
    "# This is solely to draw a heatmap (for the article)\n",
    "np.random.seed(4)\n",
    "\n",
    "#Our biclusters (values are one of these 0.9,0.8,0.7)\n",
    "#First init to zero\n",
    "biclusters = np.zeros([3,4,4]) # 3 biclusters each of size 3 x3\n",
    "\n",
    "\n",
    "for i in range(0,3):\n",
    "    biclusters[i] = np.random.choice([0.9,0.8,0.7], [4,4], replace=True) # a 4 x 4 bicluster\n",
    "#Okay now we embed them into a dataset where the rest of the values are 0,0.1 and 0.2s\n",
    "D = np.random.choice([0,0.1,0.2],[12,12],replace=True)\n",
    "\n",
    "#Embed the biclusters (this part I am hard coding it in)\n",
    "#0th\n",
    "D[0:4,0:4] = biclusters[0]\n",
    "#1st\n",
    "D[4:8,4:8] = biclusters[1]\n",
    "#2nd\n",
    "D[8:12,8:12] = biclusters[2]\n",
    "\n",
    "plt.figure(figsize=(4,4))\n",
    "plt.matshow(D, cmap=plt.cm.Blues)\n",
    "plt.xticks([])\n",
    "plt.yticks([])\n",
    "plt.tight_layout()\n",
    "plt.savefig('plot_gbs_exp2_pre.svg')"
   ]
  },
  {
   "cell_type": "code",
   "execution_count": null,
   "id": "e9ce1125-baa5-4783-9551-583cd8d6b292",
   "metadata": {},
   "outputs": [],
   "source": []
  }
 ],
 "metadata": {
  "kernelspec": {
   "display_name": "research_2023",
   "language": "python",
   "name": "research_2023"
  },
  "language_info": {
   "codemirror_mode": {
    "name": "ipython",
    "version": 3
   },
   "file_extension": ".py",
   "mimetype": "text/x-python",
   "name": "python",
   "nbconvert_exporter": "python",
   "pygments_lexer": "ipython3",
   "version": "3.11.4"
  }
 },
 "nbformat": 4,
 "nbformat_minor": 5
}
